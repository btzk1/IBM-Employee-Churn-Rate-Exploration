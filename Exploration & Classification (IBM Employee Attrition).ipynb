{
 "cells": [
  {
   "cell_type": "markdown",
   "metadata": {},
   "source": [
    "# IBM Employee Attrition Prediction \n",
    "\n",
    "The goal of this notebook is to predict employee attrition and extract meaningful inside to IBM's employee status. \n",
    "\n",
    "## Table of content \n",
    "\n",
    "1. Importing libraries \n",
    "2. Data reading \n",
    "3. Data cleaning \n",
    "4. Data tranformation \n",
    "5. Data exploration (A minor analysis is provided for each element's findings)\n",
    "    - Jobs \n",
    "    - Travel\n",
    "    - Money \n",
    "    - Experience/Education \n",
    "    - Emotion \n",
    "    - Time \n",
    "    - General info \n",
    "6. Spliiting dataset for prediction \n",
    "7. Feature scaling data\n",
    "8. Attrition Prediction \n",
    "     - Using mean of the 5 important elements for employees who left \n",
    "     - Using classification algorithm and K-fold validation \n",
    "     - Model evaluation \n",
    " "
   ]
  },
  {
   "cell_type": "markdown",
   "metadata": {},
   "source": [
    "## **Importing Library**"
   ]
  },
  {
   "cell_type": "code",
   "execution_count": 1,
   "metadata": {},
   "outputs": [],
   "source": [
    "import pandas as pd \n",
    "import numpy as np \n",
    "import warnings\n",
    "warnings.filterwarnings('ignore')\n",
    "from sklearn.model_selection import train_test_split\n",
    "from sklearn.preprocessing import StandardScaler\n",
    "from sklearn.linear_model import LogisticRegression\n",
    "from sklearn.model_selection import cross_val_score\n",
    "from sklearn.neighbors import KNeighborsClassifier\n",
    "from sklearn.svm import SVC\n",
    "from sklearn.naive_bayes import GaussianNB\n",
    "from sklearn.tree import DecisionTreeClassifier\n",
    "from sklearn.ensemble import RandomForestClassifier"
   ]
  },
  {
   "cell_type": "markdown",
   "metadata": {},
   "source": [
    "Loading dataset"
   ]
  },
  {
   "cell_type": "code",
   "execution_count": 2,
   "metadata": {},
   "outputs": [],
   "source": [
    "df = pd.read_csv('WA_Fn-UseC_-HR-Employee-Attrition.csv')\n",
    "pd.set_option('display.max_columns', None) # Show max columns of dataset "
   ]
  },
  {
   "cell_type": "markdown",
   "metadata": {},
   "source": [
    "## **Data reading**"
   ]
  },
  {
   "cell_type": "code",
   "execution_count": null,
   "metadata": {},
   "outputs": [],
   "source": [
    "# Columns and their content\n",
    "df.nunique()\n",
    "#Total column and rows\n",
    "df.shape\n",
    "# Data type \n",
    "df.info()\n",
    "# Data description \n",
    "df.describe()\n",
    "# Number of null values \n",
    "df.isnull().sum()\n",
    "#Number of duplicate values\n",
    "df.duplicated().sum()\n",
    "# Max values of the data\n",
    "df.max()"
   ]
  },
  {
   "cell_type": "markdown",
   "metadata": {},
   "source": [
    "## **Data Cleaning**\n",
    "\n",
    "Since \"Over 18,'EmployeeCount'and'StandardHours' are of the same value to all, I decided that it is not that meaningful for my analysis, thus dropping it."
   ]
  },
  {
   "cell_type": "code",
   "execution_count": 3,
   "metadata": {},
   "outputs": [],
   "source": [
    "# Removing unuseful data\n",
    "df.drop(['Over18','EmployeeCount','StandardHours'], axis = 1, inplace= True)"
   ]
  },
  {
   "cell_type": "markdown",
   "metadata": {},
   "source": [
    "## **Data Transformation**\n",
    "\n",
    "Separating the data between employees who left and employees who stayed. We also split the information into 7 different catergories for easy reference. The 7 catergories I created are (\n",
    "**'Job info', 'Travel', 'Money', 'Education/Expereince', 'Emotion', 'Time', 'Additional info'**)"
   ]
  },
  {
   "cell_type": "code",
   "execution_count": 4,
   "metadata": {},
   "outputs": [],
   "source": [
    "# Changing the Attrition value to numerical \n",
    "df['Attrition']= df['Attrition'].replace({\"Yes\": 1, \"No\": 0,}) \n",
    "# Splitting data for comparision (employees who left and stayed)\n",
    "left = df[df['Attrition'] == 1] # Employees who left \n",
    "stayed = df[df['Attrition'] == 0] # Employees who stayed\n",
    "\n",
    "# Job info\n",
    "jobsinfo_left = left[['EmployeeNumber','JobLevel', 'JobInvolvement', 'Department','JobRole','JobSatisfaction','PerformanceRating']]\n",
    "jobsinfo_stayed = stayed[['EmployeeNumber','JobLevel', 'JobInvolvement', 'Department','JobRole','JobSatisfaction','PerformanceRating']]\n",
    "\n",
    "# Travel\n",
    "travel_left = left[['EmployeeNumber','BusinessTravel','DistanceFromHome']]\n",
    "travel_stayed = stayed[['EmployeeNumber','BusinessTravel','DistanceFromHome']]\n",
    "\n",
    "# Money\n",
    "money_left = left[['EmployeeNumber','DailyRate','HourlyRate','MonthlyRate','MonthlyIncome','PercentSalaryHike']]\n",
    "money_stayed = stayed[['EmployeeNumber','DailyRate','HourlyRate','MonthlyRate','MonthlyIncome','PercentSalaryHike']]\n",
    "\n",
    "# Expereince/ Education\n",
    "eduexp_left = left[['EmployeeNumber','Education','EducationField','NumCompaniesWorked','TotalWorkingYears', 'TrainingTimesLastYear']]\n",
    "eduexp_stayed = stayed[['EmployeeNumber','Education','EducationField','NumCompaniesWorked','TotalWorkingYears', 'TrainingTimesLastYear']]\n",
    "\n",
    "# Emotions\n",
    "emotions_left = left[['EmployeeNumber','EnvironmentSatisfaction','OverTime','RelationshipSatisfaction']]\n",
    "emotions_stayed = stayed[['EmployeeNumber','EnvironmentSatisfaction','OverTime','RelationshipSatisfaction']]\n",
    "\n",
    "# Time\n",
    "time_left =left[['EmployeeNumber','YearsAtCompany','YearsInCurrentRole','YearsSinceLastPromotion','YearsWithCurrManager']]\n",
    "time_stayed =stayed[['EmployeeNumber','YearsAtCompany','YearsInCurrentRole','YearsSinceLastPromotion','YearsWithCurrManager']]\n",
    "\n",
    "# Additional Info\n",
    "additionalinfo_left = left[['EmployeeNumber','Age','Gender','MaritalStatus','WorkLifeBalance']]\n",
    "additionalinfo_stayed= stayed[['EmployeeNumber','Age','Gender','MaritalStatus','WorkLifeBalance']]"
   ]
  },
  {
   "cell_type": "markdown",
   "metadata": {},
   "source": [
    "## **Data Exploration**\n",
    "\n",
    "We first explore the characteristics of the employess and compare them between those who left and those who stayed"
   ]
  },
  {
   "cell_type": "markdown",
   "metadata": {},
   "source": [
    "People who left and stayed"
   ]
  },
  {
   "cell_type": "code",
   "execution_count": 36,
   "metadata": {},
   "outputs": [
    {
     "data": {
      "text/html": [
       "<div>\n",
       "<style scoped>\n",
       "    .dataframe tbody tr th:only-of-type {\n",
       "        vertical-align: middle;\n",
       "    }\n",
       "\n",
       "    .dataframe tbody tr th {\n",
       "        vertical-align: top;\n",
       "    }\n",
       "\n",
       "    .dataframe thead th {\n",
       "        text-align: right;\n",
       "    }\n",
       "</style>\n",
       "<table border=\"1\" class=\"dataframe\">\n",
       "  <thead>\n",
       "    <tr style=\"text-align: right;\">\n",
       "      <th></th>\n",
       "      <th>People who left</th>\n",
       "      <th>People who stayed</th>\n",
       "    </tr>\n",
       "  </thead>\n",
       "  <tbody>\n",
       "    <tr>\n",
       "      <th>Number of people</th>\n",
       "      <td>237</td>\n",
       "      <td>1233</td>\n",
       "    </tr>\n",
       "  </tbody>\n",
       "</table>\n",
       "</div>"
      ],
      "text/plain": [
       "                  People who left  People who stayed\n",
       "Number of people              237               1233"
      ]
     },
     "execution_count": 36,
     "metadata": {},
     "output_type": "execute_result"
    }
   ],
   "source": [
    "# Amount of people who left and stayed \n",
    "pd.DataFrame(([[left['Attrition'].count(),stayed['Attrition'].count()]]),index= ['Number of people'], columns= ['People who left','People who stayed'])"
   ]
  },
  {
   "cell_type": "markdown",
   "metadata": {},
   "source": [
    "**Benchmark settings** (average score for each element)"
   ]
  },
  {
   "cell_type": "code",
   "execution_count": 5,
   "metadata": {},
   "outputs": [],
   "source": [
    "jobinfo_benchmark = round(pd.DataFrame(df[['JobInvolvement', 'Department','JobRole','JobSatisfaction','PerformanceRating']].mean(),columns=['Benchmark Score']),ndigits=2)\n",
    "travelinfo_benchmark = round(pd.DataFrame(df[['DistanceFromHome']].mean(),columns=['Benchmark Score']),ndigits=2)\n",
    "moneyinfo_benchmark = round(pd.DataFrame(df[['DailyRate','HourlyRate','MonthlyRate','MonthlyIncome','PercentSalaryHike']].mean(),columns=['Benchmark Score']),ndigits=2)\n",
    "eduexpinfo_benchmark = round(pd.DataFrame(df[['Education','NumCompaniesWorked','TotalWorkingYears', 'TrainingTimesLastYear']].mean(),columns=['Benchmark Score']),ndigits=2)\n",
    "emotion_benchmark = round(pd.DataFrame(df[['EnvironmentSatisfaction','OverTime','RelationshipSatisfaction']].mean(),columns=['Benchmark Score']),ndigits=2)\n",
    "time_benchmark = round(pd.DataFrame(df[['YearsAtCompany','YearsInCurrentRole','YearsSinceLastPromotion','YearsWithCurrManager']].mean(),columns=['Benchmark Score']),ndigits=2)"
   ]
  },
  {
   "cell_type": "markdown",
   "metadata": {},
   "source": [
    "**Jobs Information**\n",
    "\n"
   ]
  },
  {
   "cell_type": "markdown",
   "metadata": {},
   "source": [
    "Exploration of JobInvolvement, JobSatisfaction and PerformanceRating\t"
   ]
  },
  {
   "cell_type": "code",
   "execution_count": 139,
   "metadata": {},
   "outputs": [
    {
     "data": {
      "text/html": [
       "<div>\n",
       "<style scoped>\n",
       "    .dataframe tbody tr th:only-of-type {\n",
       "        vertical-align: middle;\n",
       "    }\n",
       "\n",
       "    .dataframe tbody tr th {\n",
       "        vertical-align: top;\n",
       "    }\n",
       "\n",
       "    .dataframe thead th {\n",
       "        text-align: right;\n",
       "    }\n",
       "</style>\n",
       "<table border=\"1\" class=\"dataframe\">\n",
       "  <thead>\n",
       "    <tr style=\"text-align: right;\">\n",
       "      <th></th>\n",
       "      <th>Average Score Stayed</th>\n",
       "      <th>Average Score Left</th>\n",
       "      <th>Benchmark Score</th>\n",
       "    </tr>\n",
       "  </thead>\n",
       "  <tbody>\n",
       "    <tr>\n",
       "      <th>JobInvolvement</th>\n",
       "      <td>2.77</td>\n",
       "      <td>2.52</td>\n",
       "      <td>2.73</td>\n",
       "    </tr>\n",
       "    <tr>\n",
       "      <th>JobSatisfaction</th>\n",
       "      <td>2.78</td>\n",
       "      <td>2.47</td>\n",
       "      <td>2.73</td>\n",
       "    </tr>\n",
       "    <tr>\n",
       "      <th>PerformanceRating</th>\n",
       "      <td>3.15</td>\n",
       "      <td>3.16</td>\n",
       "      <td>3.15</td>\n",
       "    </tr>\n",
       "  </tbody>\n",
       "</table>\n",
       "</div>"
      ],
      "text/plain": [
       "                   Average Score Stayed  Average Score Left  Benchmark Score\n",
       "JobInvolvement                     2.77                2.52             2.73\n",
       "JobSatisfaction                    2.78                2.47             2.73\n",
       "PerformanceRating                  3.15                3.16             3.15"
      ]
     },
     "execution_count": 139,
     "metadata": {},
     "output_type": "execute_result"
    }
   ],
   "source": [
    "# Comparing average score to benchmark\n",
    "ass = round(pd.DataFrame(jobsinfo_stayed.mean(),columns=['Average Score Stayed']),ndigits = 2).iloc[2:,:]\n",
    "asl = round(pd.DataFrame(jobsinfo_left.mean(),columns=['Average Score Left']),ndigits = 2).iloc[2:,:]\n",
    "pd.concat([ass,asl,jobinfo_benchmark], axis=1).iloc[:,:]"
   ]
  },
  {
   "cell_type": "markdown",
   "metadata": {},
   "source": [
    "**Analysis**: Shown in the result, people who left are less involved in their jobs and thus prompted the effect of them not being satisfy with the job too "
   ]
  },
  {
   "cell_type": "markdown",
   "metadata": {},
   "source": [
    "Number of people"
   ]
  },
  {
   "cell_type": "code",
   "execution_count": 17,
   "metadata": {},
   "outputs": [],
   "source": [
    "# Calculation to number of people who are above or below the benchmark\n",
    "jil = (jobsinfo_left['JobInvolvement']>= 2.37).value_counts()\n",
    "jis =(jobsinfo_stayed['JobInvolvement']>= 2.37).value_counts()\n",
    "jsl =(jobsinfo_left['JobSatisfaction']>= 2.37).value_counts()\n",
    "jss =(jobsinfo_stayed['JobSatisfaction']>= 2.37).value_counts()\n",
    "prl =(jobsinfo_left['PerformanceRating']>= 3.15).value_counts()\n",
    "prs =(jobsinfo_stayed['PerformanceRating']>= 3.15).value_counts()"
   ]
  },
  {
   "cell_type": "code",
   "execution_count": 8,
   "metadata": {},
   "outputs": [
    {
     "data": {
      "text/html": [
       "<div>\n",
       "<style scoped>\n",
       "    .dataframe tbody tr th:only-of-type {\n",
       "        vertical-align: middle;\n",
       "    }\n",
       "\n",
       "    .dataframe tbody tr th {\n",
       "        vertical-align: top;\n",
       "    }\n",
       "\n",
       "    .dataframe thead th {\n",
       "        text-align: right;\n",
       "    }\n",
       "</style>\n",
       "<table border=\"1\" class=\"dataframe\">\n",
       "  <thead>\n",
       "    <tr style=\"text-align: right;\">\n",
       "      <th></th>\n",
       "      <th>Job Involvment~left</th>\n",
       "      <th>Job Involvment~stayed</th>\n",
       "      <th>Job Satisfaction~left</th>\n",
       "      <th>Job Satisfaction~stayed</th>\n",
       "      <th>Performance Rating~left</th>\n",
       "      <th>Performance Rating~stayed</th>\n",
       "    </tr>\n",
       "  </thead>\n",
       "  <tbody>\n",
       "    <tr>\n",
       "      <th>Number of people above benchmark</th>\n",
       "      <td>138</td>\n",
       "      <td>874</td>\n",
       "      <td>125</td>\n",
       "      <td>776</td>\n",
       "      <td>37</td>\n",
       "      <td>189</td>\n",
       "    </tr>\n",
       "    <tr>\n",
       "      <th>Number of people below benchmark</th>\n",
       "      <td>99</td>\n",
       "      <td>359</td>\n",
       "      <td>112</td>\n",
       "      <td>457</td>\n",
       "      <td>200</td>\n",
       "      <td>1044</td>\n",
       "    </tr>\n",
       "  </tbody>\n",
       "</table>\n",
       "</div>"
      ],
      "text/plain": [
       "                                  Job Involvment~left  Job Involvment~stayed  \\\n",
       "Number of people above benchmark                  138                    874   \n",
       "Number of people below benchmark                   99                    359   \n",
       "\n",
       "                                  Job Satisfaction~left  \\\n",
       "Number of people above benchmark                    125   \n",
       "Number of people below benchmark                    112   \n",
       "\n",
       "                                  Job Satisfaction~stayed  \\\n",
       "Number of people above benchmark                      776   \n",
       "Number of people below benchmark                      457   \n",
       "\n",
       "                                  Performance Rating~left  \\\n",
       "Number of people above benchmark                       37   \n",
       "Number of people below benchmark                      200   \n",
       "\n",
       "                                  Performance Rating~stayed  \n",
       "Number of people above benchmark                        189  \n",
       "Number of people below benchmark                       1044  "
      ]
     },
     "execution_count": 8,
     "metadata": {},
     "output_type": "execute_result"
    }
   ],
   "source": [
    "# Manual list creation for dataframe \n",
    "job_people_above_benchamrk = [138,874,125,776,37,189]\n",
    "job_people_below_benchamrk = [99,359,112,457,200,1044]\n",
    "pd.DataFrame([job_people_above_benchamrk,job_people_below_benchamrk],index=['Number of people above benchmark','Number of people below benchmark']\n",
    "             ,columns=['Job Involvment~left','Job Involvment~stayed','Job Satisfaction~left'\n",
    "                       ,'Job Satisfaction~stayed','Performance Rating~left','Performance Rating~stayed'])"
   ]
  },
  {
   "cell_type": "markdown",
   "metadata": {},
   "source": [
    "Exploration of Department"
   ]
  },
  {
   "cell_type": "code",
   "execution_count": 13,
   "metadata": {},
   "outputs": [
    {
     "data": {
      "text/html": [
       "<div>\n",
       "<style scoped>\n",
       "    .dataframe tbody tr th:only-of-type {\n",
       "        vertical-align: middle;\n",
       "    }\n",
       "\n",
       "    .dataframe tbody tr th {\n",
       "        vertical-align: top;\n",
       "    }\n",
       "\n",
       "    .dataframe thead th {\n",
       "        text-align: right;\n",
       "    }\n",
       "</style>\n",
       "<table border=\"1\" class=\"dataframe\">\n",
       "  <thead>\n",
       "    <tr style=\"text-align: right;\">\n",
       "      <th></th>\n",
       "      <th>Research &amp; Development</th>\n",
       "      <th>Sales</th>\n",
       "      <th>Human Resources</th>\n",
       "    </tr>\n",
       "  </thead>\n",
       "  <tbody>\n",
       "    <tr>\n",
       "      <th>People who left</th>\n",
       "      <td>133</td>\n",
       "      <td>92</td>\n",
       "      <td>12</td>\n",
       "    </tr>\n",
       "    <tr>\n",
       "      <th>People who stayed</th>\n",
       "      <td>828</td>\n",
       "      <td>354</td>\n",
       "      <td>51</td>\n",
       "    </tr>\n",
       "  </tbody>\n",
       "</table>\n",
       "</div>"
      ],
      "text/plain": [
       "                   Research & Development  Sales  Human Resources\n",
       "People who left                       133     92               12\n",
       "People who stayed                     828    354               51"
      ]
     },
     "execution_count": 13,
     "metadata": {},
     "output_type": "execute_result"
    }
   ],
   "source": [
    "# The amount of people that worked in each deparment and their job role\n",
    "departmentl =left['Department'].value_counts()\n",
    "departmetns = stayed['Department'].value_counts()\n",
    "pd.DataFrame([departmentl,departmetns],index=['People who left','People who stayed'])"
   ]
  },
  {
   "cell_type": "markdown",
   "metadata": {},
   "source": [
    "**Analysis:** The department consist of 3 unique values which include ‘R&D, Sales and Human Resources. Managers of each department might want to take a close look to why their colleagues are leaving "
   ]
  },
  {
   "cell_type": "markdown",
   "metadata": {},
   "source": [
    "Exploration to Job Role"
   ]
  },
  {
   "cell_type": "code",
   "execution_count": 14,
   "metadata": {},
   "outputs": [
    {
     "data": {
      "text/html": [
       "<div>\n",
       "<style scoped>\n",
       "    .dataframe tbody tr th:only-of-type {\n",
       "        vertical-align: middle;\n",
       "    }\n",
       "\n",
       "    .dataframe tbody tr th {\n",
       "        vertical-align: top;\n",
       "    }\n",
       "\n",
       "    .dataframe thead th {\n",
       "        text-align: right;\n",
       "    }\n",
       "</style>\n",
       "<table border=\"1\" class=\"dataframe\">\n",
       "  <thead>\n",
       "    <tr style=\"text-align: right;\">\n",
       "      <th></th>\n",
       "      <th>Laboratory Technician</th>\n",
       "      <th>Sales Executive</th>\n",
       "      <th>Research Scientist</th>\n",
       "      <th>Sales Representative</th>\n",
       "      <th>Human Resources</th>\n",
       "      <th>Manufacturing Director</th>\n",
       "      <th>Healthcare Representative</th>\n",
       "      <th>Manager</th>\n",
       "      <th>Research Director</th>\n",
       "    </tr>\n",
       "  </thead>\n",
       "  <tbody>\n",
       "    <tr>\n",
       "      <th>People who left</th>\n",
       "      <td>62</td>\n",
       "      <td>57</td>\n",
       "      <td>47</td>\n",
       "      <td>33</td>\n",
       "      <td>12</td>\n",
       "      <td>10</td>\n",
       "      <td>9</td>\n",
       "      <td>5</td>\n",
       "      <td>2</td>\n",
       "    </tr>\n",
       "    <tr>\n",
       "      <th>People who stayed</th>\n",
       "      <td>197</td>\n",
       "      <td>269</td>\n",
       "      <td>245</td>\n",
       "      <td>50</td>\n",
       "      <td>40</td>\n",
       "      <td>135</td>\n",
       "      <td>122</td>\n",
       "      <td>97</td>\n",
       "      <td>78</td>\n",
       "    </tr>\n",
       "  </tbody>\n",
       "</table>\n",
       "</div>"
      ],
      "text/plain": [
       "                   Laboratory Technician  Sales Executive  Research Scientist  \\\n",
       "People who left                       62               57                  47   \n",
       "People who stayed                    197              269                 245   \n",
       "\n",
       "                   Sales Representative  Human Resources  \\\n",
       "People who left                      33               12   \n",
       "People who stayed                    50               40   \n",
       "\n",
       "                   Manufacturing Director  Healthcare Representative  Manager  \\\n",
       "People who left                        10                          9        5   \n",
       "People who stayed                     135                        122       97   \n",
       "\n",
       "                   Research Director  \n",
       "People who left                    2  \n",
       "People who stayed                 78  "
      ]
     },
     "execution_count": 14,
     "metadata": {},
     "output_type": "execute_result"
    }
   ],
   "source": [
    "# Job roles of people who left and stayed\n",
    "jobrolel =left['JobRole'].value_counts()\n",
    "jobroles = stayed['JobRole'].value_counts()\n",
    "pd.DataFrame([jobrolel,jobroles],index=['People who left','People who stayed'])"
   ]
  },
  {
   "cell_type": "markdown",
   "metadata": {},
   "source": [
    "**Analysis:** Most of the people who left are Laboratory Technician, sales executive, and Sales representatives "
   ]
  },
  {
   "cell_type": "markdown",
   "metadata": {},
   "source": [
    "# ==============================================================="
   ]
  },
  {
   "cell_type": "markdown",
   "metadata": {},
   "source": [
    "**Travel info**"
   ]
  },
  {
   "cell_type": "markdown",
   "metadata": {},
   "source": [
    "Distance From Home Exploration"
   ]
  },
  {
   "cell_type": "code",
   "execution_count": 12,
   "metadata": {},
   "outputs": [
    {
     "data": {
      "text/html": [
       "<div>\n",
       "<style scoped>\n",
       "    .dataframe tbody tr th:only-of-type {\n",
       "        vertical-align: middle;\n",
       "    }\n",
       "\n",
       "    .dataframe tbody tr th {\n",
       "        vertical-align: top;\n",
       "    }\n",
       "\n",
       "    .dataframe thead th {\n",
       "        text-align: right;\n",
       "    }\n",
       "</style>\n",
       "<table border=\"1\" class=\"dataframe\">\n",
       "  <thead>\n",
       "    <tr style=\"text-align: right;\">\n",
       "      <th></th>\n",
       "      <th>Average Score Stayed</th>\n",
       "      <th>Average Score Left</th>\n",
       "      <th>Benchmark Score</th>\n",
       "    </tr>\n",
       "  </thead>\n",
       "  <tbody>\n",
       "    <tr>\n",
       "      <th>DistanceFromHome</th>\n",
       "      <td>8.92</td>\n",
       "      <td>10.63</td>\n",
       "      <td>9.19</td>\n",
       "    </tr>\n",
       "  </tbody>\n",
       "</table>\n",
       "</div>"
      ],
      "text/plain": [
       "                  Average Score Stayed  Average Score Left  Benchmark Score\n",
       "DistanceFromHome                  8.92               10.63             9.19"
      ]
     },
     "execution_count": 12,
     "metadata": {},
     "output_type": "execute_result"
    }
   ],
   "source": [
    "tras = round(pd.DataFrame(travel_stayed.mean(),columns=['Average Score Stayed']),ndigits = 2).iloc[1:,:]\n",
    "tral = round(pd.DataFrame(travel_left.mean(),columns=['Average Score Left']),ndigits = 2).iloc[1:,:]\n",
    "pd.concat([tras,tral,travelinfo_benchmark], axis=1).iloc[:,:]"
   ]
  },
  {
   "cell_type": "markdown",
   "metadata": {},
   "source": [
    "**Analysis:** Averagely employee has to travel 9.19 km to reach work, however most the people that left traveled more. "
   ]
  },
  {
   "cell_type": "markdown",
   "metadata": {},
   "source": [
    "Business Travel Exploration"
   ]
  },
  {
   "cell_type": "code",
   "execution_count": 86,
   "metadata": {},
   "outputs": [],
   "source": [
    "btl =travel_left['BusinessTravel'].value_counts()\n",
    "bts = travel_stayed['BusinessTravel'].value_counts()"
   ]
  },
  {
   "cell_type": "code",
   "execution_count": 92,
   "metadata": {},
   "outputs": [
    {
     "data": {
      "text/html": [
       "<div>\n",
       "<style scoped>\n",
       "    .dataframe tbody tr th:only-of-type {\n",
       "        vertical-align: middle;\n",
       "    }\n",
       "\n",
       "    .dataframe tbody tr th {\n",
       "        vertical-align: top;\n",
       "    }\n",
       "\n",
       "    .dataframe thead th {\n",
       "        text-align: right;\n",
       "    }\n",
       "</style>\n",
       "<table border=\"1\" class=\"dataframe\">\n",
       "  <thead>\n",
       "    <tr style=\"text-align: right;\">\n",
       "      <th></th>\n",
       "      <th>Travel_Rarely</th>\n",
       "      <th>Travel_Frequently</th>\n",
       "      <th>Non-Travel</th>\n",
       "    </tr>\n",
       "  </thead>\n",
       "  <tbody>\n",
       "    <tr>\n",
       "      <th>People who left</th>\n",
       "      <td>156</td>\n",
       "      <td>69</td>\n",
       "      <td>12</td>\n",
       "    </tr>\n",
       "    <tr>\n",
       "      <th>People who stayed</th>\n",
       "      <td>887</td>\n",
       "      <td>208</td>\n",
       "      <td>138</td>\n",
       "    </tr>\n",
       "  </tbody>\n",
       "</table>\n",
       "</div>"
      ],
      "text/plain": [
       "                   Travel_Rarely  Travel_Frequently  Non-Travel\n",
       "People who left              156                 69          12\n",
       "People who stayed            887                208         138"
      ]
     },
     "execution_count": 92,
     "metadata": {},
     "output_type": "execute_result"
    }
   ],
   "source": [
    "pd.DataFrame([btl,bts],index=['People who left','People who stayed'])"
   ]
  },
  {
   "cell_type": "markdown",
   "metadata": {},
   "source": [
    "# ================================================================"
   ]
  },
  {
   "cell_type": "markdown",
   "metadata": {},
   "source": [
    "**Money Info**"
   ]
  },
  {
   "cell_type": "markdown",
   "metadata": {},
   "source": [
    "Average Pay Rate"
   ]
  },
  {
   "cell_type": "code",
   "execution_count": 93,
   "metadata": {},
   "outputs": [
    {
     "data": {
      "text/html": [
       "<div>\n",
       "<style scoped>\n",
       "    .dataframe tbody tr th:only-of-type {\n",
       "        vertical-align: middle;\n",
       "    }\n",
       "\n",
       "    .dataframe tbody tr th {\n",
       "        vertical-align: top;\n",
       "    }\n",
       "\n",
       "    .dataframe thead th {\n",
       "        text-align: right;\n",
       "    }\n",
       "</style>\n",
       "<table border=\"1\" class=\"dataframe\">\n",
       "  <thead>\n",
       "    <tr style=\"text-align: right;\">\n",
       "      <th></th>\n",
       "      <th>Average Rate Stayed</th>\n",
       "      <th>Average Rate Left</th>\n",
       "      <th>Benchmark Score</th>\n",
       "    </tr>\n",
       "  </thead>\n",
       "  <tbody>\n",
       "    <tr>\n",
       "      <th>DailyRate</th>\n",
       "      <td>812.50</td>\n",
       "      <td>750.36</td>\n",
       "      <td>802.49</td>\n",
       "    </tr>\n",
       "    <tr>\n",
       "      <th>HourlyRate</th>\n",
       "      <td>65.95</td>\n",
       "      <td>65.57</td>\n",
       "      <td>65.89</td>\n",
       "    </tr>\n",
       "    <tr>\n",
       "      <th>MonthlyIncome</th>\n",
       "      <td>6832.74</td>\n",
       "      <td>4787.09</td>\n",
       "      <td>6502.93</td>\n",
       "    </tr>\n",
       "    <tr>\n",
       "      <th>MonthlyRate</th>\n",
       "      <td>14265.78</td>\n",
       "      <td>14559.31</td>\n",
       "      <td>14313.10</td>\n",
       "    </tr>\n",
       "    <tr>\n",
       "      <th>PercentSalaryHike</th>\n",
       "      <td>15.23</td>\n",
       "      <td>15.10</td>\n",
       "      <td>15.21</td>\n",
       "    </tr>\n",
       "  </tbody>\n",
       "</table>\n",
       "</div>"
      ],
      "text/plain": [
       "                   Average Rate Stayed  Average Rate Left  Benchmark Score\n",
       "DailyRate                       812.50             750.36           802.49\n",
       "HourlyRate                       65.95              65.57            65.89\n",
       "MonthlyIncome                  6832.74            4787.09          6502.93\n",
       "MonthlyRate                   14265.78           14559.31         14313.10\n",
       "PercentSalaryHike                15.23              15.10            15.21"
      ]
     },
     "execution_count": 93,
     "metadata": {},
     "output_type": "execute_result"
    }
   ],
   "source": [
    "# Comparing average score to benchmark\n",
    "ms = round(pd.DataFrame(money_stayed.mean(),columns=['Average Rate Stayed']),ndigits = 2)\n",
    "ml = round(pd.DataFrame(money_left.mean(),columns=['Average Rate Left']),ndigits = 2)\n",
    "pd.concat([ms,ml,moneyinfo_benchmark], axis=1).dropna()"
   ]
  },
  {
   "cell_type": "markdown",
   "metadata": {},
   "source": [
    "**Analysis:** For this analysis, we’re going to consider the monthly income of our employees. People who left generally get paid under the benchmark "
   ]
  },
  {
   "cell_type": "markdown",
   "metadata": {},
   "source": [
    "People who got paid above the average "
   ]
  },
  {
   "cell_type": "code",
   "execution_count": 6,
   "metadata": {},
   "outputs": [],
   "source": [
    "drl = (money_left['DailyRate']>= 802.49).value_counts()\n",
    "drs =(money_stayed['DailyRate']>=802.49).value_counts()\n",
    "hrl =(money_left['HourlyRate']>= 65.89).value_counts()\n",
    "hrs =(money_stayed['HourlyRate']>= 65.89).value_counts()\n",
    "mil =(money_left['MonthlyIncome']>= 6502.93).value_counts()\n",
    "mis =(money_stayed['MonthlyIncome']>= 6502.93).value_counts()\n",
    "mrl =(money_left['MonthlyRate']>= 14313.10).value_counts()\n",
    "mrs =(money_stayed['MonthlyRate']>= 14313.10).value_counts()\n",
    "pshl =(money_left['PercentSalaryHike']>= 15.21).value_counts()\n",
    "pshs =(money_stayed['PercentSalaryHike']>= 15.21).value_counts()"
   ]
  },
  {
   "cell_type": "code",
   "execution_count": 24,
   "metadata": {},
   "outputs": [
    {
     "data": {
      "text/html": [
       "<div>\n",
       "<style scoped>\n",
       "    .dataframe tbody tr th:only-of-type {\n",
       "        vertical-align: middle;\n",
       "    }\n",
       "\n",
       "    .dataframe tbody tr th {\n",
       "        vertical-align: top;\n",
       "    }\n",
       "\n",
       "    .dataframe thead th {\n",
       "        text-align: right;\n",
       "    }\n",
       "</style>\n",
       "<table border=\"1\" class=\"dataframe\">\n",
       "  <thead>\n",
       "    <tr style=\"text-align: right;\">\n",
       "      <th></th>\n",
       "      <th>DailyRate~left</th>\n",
       "      <th>DailyRate~stayed</th>\n",
       "      <th>HourlyRate~left</th>\n",
       "      <th>HourlyRate~stayed</th>\n",
       "      <th>MonthlyIncome~left</th>\n",
       "      <th>MonthlyIncome~stayed</th>\n",
       "      <th>MonthlyRate~left</th>\n",
       "      <th>MonthlyRate~stayed</th>\n",
       "      <th>PercentSalaryHike~left</th>\n",
       "      <th>PercentSalaryHike~stayed</th>\n",
       "    </tr>\n",
       "  </thead>\n",
       "  <tbody>\n",
       "    <tr>\n",
       "      <th>Number of people above benchmark</th>\n",
       "      <td>104.00</td>\n",
       "      <td>630.00</td>\n",
       "      <td>119.00</td>\n",
       "      <td>627.00</td>\n",
       "      <td>52.00</td>\n",
       "      <td>441.00</td>\n",
       "      <td>122.0</td>\n",
       "      <td>608.0</td>\n",
       "      <td>87.00</td>\n",
       "      <td>464.00</td>\n",
       "    </tr>\n",
       "    <tr>\n",
       "      <th>Number of people below benchmark</th>\n",
       "      <td>133.00</td>\n",
       "      <td>603.00</td>\n",
       "      <td>118.00</td>\n",
       "      <td>606.00</td>\n",
       "      <td>185.00</td>\n",
       "      <td>792.00</td>\n",
       "      <td>115.0</td>\n",
       "      <td>625.0</td>\n",
       "      <td>150.00</td>\n",
       "      <td>769.00</td>\n",
       "    </tr>\n",
       "    <tr>\n",
       "      <th>Benchmark</th>\n",
       "      <td>802.49</td>\n",
       "      <td>802.49</td>\n",
       "      <td>65.89</td>\n",
       "      <td>65.89</td>\n",
       "      <td>6502.93</td>\n",
       "      <td>6502.93</td>\n",
       "      <td>14313.1</td>\n",
       "      <td>14313.1</td>\n",
       "      <td>15.21</td>\n",
       "      <td>15.21</td>\n",
       "    </tr>\n",
       "  </tbody>\n",
       "</table>\n",
       "</div>"
      ],
      "text/plain": [
       "                                  DailyRate~left  DailyRate~stayed  \\\n",
       "Number of people above benchmark          104.00            630.00   \n",
       "Number of people below benchmark          133.00            603.00   \n",
       "Benchmark                                 802.49            802.49   \n",
       "\n",
       "                                  HourlyRate~left  HourlyRate~stayed  \\\n",
       "Number of people above benchmark           119.00             627.00   \n",
       "Number of people below benchmark           118.00             606.00   \n",
       "Benchmark                                   65.89              65.89   \n",
       "\n",
       "                                  MonthlyIncome~left  MonthlyIncome~stayed  \\\n",
       "Number of people above benchmark               52.00                441.00   \n",
       "Number of people below benchmark              185.00                792.00   \n",
       "Benchmark                                    6502.93               6502.93   \n",
       "\n",
       "                                  MonthlyRate~left  MonthlyRate~stayed  \\\n",
       "Number of people above benchmark             122.0               608.0   \n",
       "Number of people below benchmark             115.0               625.0   \n",
       "Benchmark                                  14313.1             14313.1   \n",
       "\n",
       "                                  PercentSalaryHike~left  \\\n",
       "Number of people above benchmark                   87.00   \n",
       "Number of people below benchmark                  150.00   \n",
       "Benchmark                                          15.21   \n",
       "\n",
       "                                  PercentSalaryHike~stayed  \n",
       "Number of people above benchmark                    464.00  \n",
       "Number of people below benchmark                    769.00  \n",
       "Benchmark                                            15.21  "
      ]
     },
     "execution_count": 24,
     "metadata": {},
     "output_type": "execute_result"
    }
   ],
   "source": [
    "# Manual list creation for dataframe \n",
    "money_people_above_benchamrk = [104,630,119,627,52,441,122,608,87,464]\n",
    "money_people_below_benchamrk = [133,603,118,606,185,792,115,625,150,769]\n",
    "money_benchmark = [802.49,802.49,65.89,65.89,6502.93,6502.93,14313.10,14313.10,15.21,15.21]\n",
    "pd.DataFrame([money_people_above_benchamrk,money_people_below_benchamrk,money_benchmark],\n",
    "             index=['Number of people above benchmark','Number of people below benchmark','Benchmark']\n",
    "             ,columns=['DailyRate~left','DailyRate~stayed','HourlyRate~left'\n",
    "                       ,'HourlyRate~stayed','MonthlyIncome~left','MonthlyIncome~stayed',\n",
    "                      'MonthlyRate~left','MonthlyRate~stayed','PercentSalaryHike~left','PercentSalaryHike~stayed'])"
   ]
  },
  {
   "cell_type": "markdown",
   "metadata": {},
   "source": [
    "Job Role Average pay"
   ]
  },
  {
   "cell_type": "code",
   "execution_count": 30,
   "metadata": {},
   "outputs": [
    {
     "data": {
      "text/html": [
       "<div>\n",
       "<style scoped>\n",
       "    .dataframe tbody tr th:only-of-type {\n",
       "        vertical-align: middle;\n",
       "    }\n",
       "\n",
       "    .dataframe tbody tr th {\n",
       "        vertical-align: top;\n",
       "    }\n",
       "\n",
       "    .dataframe thead th {\n",
       "        text-align: right;\n",
       "    }\n",
       "</style>\n",
       "<table border=\"1\" class=\"dataframe\">\n",
       "  <thead>\n",
       "    <tr style=\"text-align: right;\">\n",
       "      <th></th>\n",
       "      <th>Average Monthly Income</th>\n",
       "    </tr>\n",
       "  </thead>\n",
       "  <tbody>\n",
       "    <tr>\n",
       "      <th>Sales Executive</th>\n",
       "      <td>6924.28</td>\n",
       "    </tr>\n",
       "    <tr>\n",
       "      <th>Research Scientist</th>\n",
       "      <td>3239.97</td>\n",
       "    </tr>\n",
       "    <tr>\n",
       "      <th>Laboratory Technician</th>\n",
       "      <td>3237.17</td>\n",
       "    </tr>\n",
       "    <tr>\n",
       "      <th>Manufacturing Director</th>\n",
       "      <td>7295.14</td>\n",
       "    </tr>\n",
       "    <tr>\n",
       "      <th>Healthcare Representative</th>\n",
       "      <td>7528.76</td>\n",
       "    </tr>\n",
       "    <tr>\n",
       "      <th>Manager</th>\n",
       "      <td>17181.68</td>\n",
       "    </tr>\n",
       "    <tr>\n",
       "      <th>Sales Representative</th>\n",
       "      <td>2626.00</td>\n",
       "    </tr>\n",
       "    <tr>\n",
       "      <th>Research Director</th>\n",
       "      <td>16033.55</td>\n",
       "    </tr>\n",
       "    <tr>\n",
       "      <th>Human Resources</th>\n",
       "      <td>4235.75</td>\n",
       "    </tr>\n",
       "  </tbody>\n",
       "</table>\n",
       "</div>"
      ],
      "text/plain": [
       "                           Average Monthly Income\n",
       "Sales Executive                           6924.28\n",
       "Research Scientist                        3239.97\n",
       "Laboratory Technician                     3237.17\n",
       "Manufacturing Director                    7295.14\n",
       "Healthcare Representative                 7528.76\n",
       "Manager                                  17181.68\n",
       "Sales Representative                      2626.00\n",
       "Research Director                        16033.55\n",
       "Human Resources                           4235.75"
      ]
     },
     "execution_count": 30,
     "metadata": {},
     "output_type": "execute_result"
    }
   ],
   "source": [
    "# Calculating the mean of each job role\n",
    "combine_jrmi = df[['JobRole', 'MonthlyIncome']]\n",
    "aise = combine_jrmi[combine_jrmi['JobRole']=='Sales Executive'].mean()\n",
    "airs = combine_jrmi[combine_jrmi['JobRole']=='Research Scientist'].mean()\n",
    "ailt = combine_jrmi[combine_jrmi['JobRole']=='Laboratory Technician'].mean()\n",
    "aimd = combine_jrmi[combine_jrmi['JobRole']=='Manufacturing Director'].mean()\n",
    "aihr = combine_jrmi[combine_jrmi['JobRole']=='Healthcare Representative'].mean()\n",
    "aim = combine_jrmi[combine_jrmi['JobRole']=='Manager'].mean()\n",
    "aisr = combine_jrmi[combine_jrmi['JobRole']=='Sales Representative'].mean()\n",
    "aird = combine_jrmi[combine_jrmi['JobRole']=='Research Director'].mean()\n",
    "aihur = combine_jrmi[combine_jrmi['JobRole']=='Human Resources'].mean()\n",
    "\n",
    "# Creating the dataset for average income based on job roles \n",
    "avg_income =pd.DataFrame([aise,airs,ailt,aimd,\n",
    "                          aihr,aim,aisr,aird,aihur],index= ['Sales Executive','Research Scientist','Laboratory Technician',\n",
    "                                                                   'Manufacturing Director','Healthcare Representative',\n",
    "                                                                   'Manager','Sales Representative',\n",
    "                                                                   'Research Director','Human Resources'], columns = ['MonthlyIncome']).round(decimals=2)\n",
    "\n",
    "# Renaming the column\n",
    "avg_income.columns = [c.replace('MonthlyIncome', 'Average Monthly Income') for c in avg_income.columns]\n",
    "avg_income"
   ]
  },
  {
   "cell_type": "markdown",
   "metadata": {},
   "source": [
    "Stats of person who got paid the most"
   ]
  },
  {
   "cell_type": "code",
   "execution_count": 25,
   "metadata": {},
   "outputs": [
    {
     "data": {
      "text/html": [
       "<div>\n",
       "<style scoped>\n",
       "    .dataframe tbody tr th:only-of-type {\n",
       "        vertical-align: middle;\n",
       "    }\n",
       "\n",
       "    .dataframe tbody tr th {\n",
       "        vertical-align: top;\n",
       "    }\n",
       "\n",
       "    .dataframe thead th {\n",
       "        text-align: right;\n",
       "    }\n",
       "</style>\n",
       "<table border=\"1\" class=\"dataframe\">\n",
       "  <thead>\n",
       "    <tr style=\"text-align: right;\">\n",
       "      <th></th>\n",
       "      <th>Age</th>\n",
       "      <th>Attrition</th>\n",
       "      <th>BusinessTravel</th>\n",
       "      <th>DailyRate</th>\n",
       "      <th>Department</th>\n",
       "      <th>DistanceFromHome</th>\n",
       "      <th>Education</th>\n",
       "      <th>EducationField</th>\n",
       "      <th>EmployeeNumber</th>\n",
       "      <th>EnvironmentSatisfaction</th>\n",
       "      <th>Gender</th>\n",
       "      <th>HourlyRate</th>\n",
       "      <th>JobInvolvement</th>\n",
       "      <th>JobLevel</th>\n",
       "      <th>JobRole</th>\n",
       "      <th>JobSatisfaction</th>\n",
       "      <th>MaritalStatus</th>\n",
       "      <th>MonthlyIncome</th>\n",
       "      <th>MonthlyRate</th>\n",
       "      <th>NumCompaniesWorked</th>\n",
       "      <th>OverTime</th>\n",
       "      <th>PercentSalaryHike</th>\n",
       "      <th>PerformanceRating</th>\n",
       "      <th>RelationshipSatisfaction</th>\n",
       "      <th>StockOptionLevel</th>\n",
       "      <th>TotalWorkingYears</th>\n",
       "      <th>TrainingTimesLastYear</th>\n",
       "      <th>WorkLifeBalance</th>\n",
       "      <th>YearsAtCompany</th>\n",
       "      <th>YearsInCurrentRole</th>\n",
       "      <th>YearsSinceLastPromotion</th>\n",
       "      <th>YearsWithCurrManager</th>\n",
       "    </tr>\n",
       "  </thead>\n",
       "  <tbody>\n",
       "    <tr>\n",
       "      <th>190</th>\n",
       "      <td>52</td>\n",
       "      <td>0</td>\n",
       "      <td>Travel_Rarely</td>\n",
       "      <td>699</td>\n",
       "      <td>Research &amp; Development</td>\n",
       "      <td>1</td>\n",
       "      <td>4</td>\n",
       "      <td>Life Sciences</td>\n",
       "      <td>259</td>\n",
       "      <td>3</td>\n",
       "      <td>Male</td>\n",
       "      <td>65</td>\n",
       "      <td>2</td>\n",
       "      <td>5</td>\n",
       "      <td>Manager</td>\n",
       "      <td>3</td>\n",
       "      <td>Married</td>\n",
       "      <td>19999</td>\n",
       "      <td>5678</td>\n",
       "      <td>0</td>\n",
       "      <td>No</td>\n",
       "      <td>14</td>\n",
       "      <td>3</td>\n",
       "      <td>1</td>\n",
       "      <td>1</td>\n",
       "      <td>34</td>\n",
       "      <td>5</td>\n",
       "      <td>3</td>\n",
       "      <td>33</td>\n",
       "      <td>18</td>\n",
       "      <td>11</td>\n",
       "      <td>9</td>\n",
       "    </tr>\n",
       "  </tbody>\n",
       "</table>\n",
       "</div>"
      ],
      "text/plain": [
       "     Age  Attrition BusinessTravel  DailyRate              Department  \\\n",
       "190   52          0  Travel_Rarely        699  Research & Development   \n",
       "\n",
       "     DistanceFromHome  Education EducationField  EmployeeNumber  \\\n",
       "190                 1          4  Life Sciences             259   \n",
       "\n",
       "     EnvironmentSatisfaction Gender  HourlyRate  JobInvolvement  JobLevel  \\\n",
       "190                        3   Male          65               2         5   \n",
       "\n",
       "     JobRole  JobSatisfaction MaritalStatus  MonthlyIncome  MonthlyRate  \\\n",
       "190  Manager                3       Married          19999         5678   \n",
       "\n",
       "     NumCompaniesWorked OverTime  PercentSalaryHike  PerformanceRating  \\\n",
       "190                   0       No                 14                  3   \n",
       "\n",
       "     RelationshipSatisfaction  StockOptionLevel  TotalWorkingYears  \\\n",
       "190                         1                 1                 34   \n",
       "\n",
       "     TrainingTimesLastYear  WorkLifeBalance  YearsAtCompany  \\\n",
       "190                      5                3              33   \n",
       "\n",
       "     YearsInCurrentRole  YearsSinceLastPromotion  YearsWithCurrManager  \n",
       "190                  18                       11                     9  "
      ]
     },
     "execution_count": 25,
     "metadata": {},
     "output_type": "execute_result"
    }
   ],
   "source": [
    "combine_jrmi.max()\n",
    "df[df['MonthlyIncome'] == 19999]"
   ]
  },
  {
   "cell_type": "markdown",
   "metadata": {},
   "source": [
    "# ================================================================"
   ]
  },
  {
   "cell_type": "markdown",
   "metadata": {},
   "source": [
    "**Experience and Education Info**"
   ]
  },
  {
   "cell_type": "code",
   "execution_count": 31,
   "metadata": {},
   "outputs": [
    {
     "data": {
      "text/html": [
       "<div>\n",
       "<style scoped>\n",
       "    .dataframe tbody tr th:only-of-type {\n",
       "        vertical-align: middle;\n",
       "    }\n",
       "\n",
       "    .dataframe tbody tr th {\n",
       "        vertical-align: top;\n",
       "    }\n",
       "\n",
       "    .dataframe thead th {\n",
       "        text-align: right;\n",
       "    }\n",
       "</style>\n",
       "<table border=\"1\" class=\"dataframe\">\n",
       "  <thead>\n",
       "    <tr style=\"text-align: right;\">\n",
       "      <th></th>\n",
       "      <th>Average Score Stayed</th>\n",
       "      <th>Average Score Left</th>\n",
       "      <th>Benchmark Score</th>\n",
       "    </tr>\n",
       "  </thead>\n",
       "  <tbody>\n",
       "    <tr>\n",
       "      <th>Education</th>\n",
       "      <td>2.93</td>\n",
       "      <td>2.84</td>\n",
       "      <td>2.91</td>\n",
       "    </tr>\n",
       "    <tr>\n",
       "      <th>NumCompaniesWorked</th>\n",
       "      <td>2.65</td>\n",
       "      <td>2.94</td>\n",
       "      <td>2.69</td>\n",
       "    </tr>\n",
       "    <tr>\n",
       "      <th>TotalWorkingYears</th>\n",
       "      <td>11.86</td>\n",
       "      <td>8.24</td>\n",
       "      <td>11.28</td>\n",
       "    </tr>\n",
       "    <tr>\n",
       "      <th>TrainingTimesLastYear</th>\n",
       "      <td>2.83</td>\n",
       "      <td>2.62</td>\n",
       "      <td>2.80</td>\n",
       "    </tr>\n",
       "  </tbody>\n",
       "</table>\n",
       "</div>"
      ],
      "text/plain": [
       "                       Average Score Stayed  Average Score Left  \\\n",
       "Education                              2.93                2.84   \n",
       "NumCompaniesWorked                     2.65                2.94   \n",
       "TotalWorkingYears                     11.86                8.24   \n",
       "TrainingTimesLastYear                  2.83                2.62   \n",
       "\n",
       "                       Benchmark Score  \n",
       "Education                         2.91  \n",
       "NumCompaniesWorked                2.69  \n",
       "TotalWorkingYears                11.28  \n",
       "TrainingTimesLastYear             2.80  "
      ]
     },
     "execution_count": 31,
     "metadata": {},
     "output_type": "execute_result"
    }
   ],
   "source": [
    "# Comparing average score to benchmark\n",
    "eds = round(pd.DataFrame(eduexp_stayed.mean(),columns=['Average Score Stayed']),ndigits = 2).iloc[1:,:]\n",
    "edl = round(pd.DataFrame(eduexp_left.mean(),columns=['Average Score Left']),ndigits = 2).iloc[1:,:]\n",
    "pd.concat([eds,edl,eduexpinfo_benchmark], axis=1)"
   ]
  },
  {
   "cell_type": "markdown",
   "metadata": {},
   "source": [
    "**Analysis:** \n",
    "It seems that people with higher experience tend to stay \n"
   ]
  },
  {
   "cell_type": "markdown",
   "metadata": {},
   "source": [
    "Number of people above the average score"
   ]
  },
  {
   "cell_type": "code",
   "execution_count": 41,
   "metadata": {},
   "outputs": [],
   "source": [
    "# Calculation to number of people who are above or below the benchmark\n",
    "el = (eduexp_left['Education']>= 2.91).value_counts()\n",
    "es =(eduexp_stayed['Education']>= 2.91).value_counts()\n",
    "ncwl =(eduexp_left['NumCompaniesWorked']>= 2.69).value_counts()\n",
    "ncws =(eduexp_stayed['NumCompaniesWorked']>= 2.69).value_counts()\n",
    "twyl =(eduexp_left['TotalWorkingYears']>= 11.28).value_counts()\n",
    "twys =(eduexp_stayed['TotalWorkingYears']>= 11.28).value_counts()\n",
    "ttlyl =(eduexp_left['TrainingTimesLastYear']>= 2.8).value_counts()\n",
    "ttlys =(eduexp_stayed['TrainingTimesLastYear']>= 2.8).value_counts()"
   ]
  },
  {
   "cell_type": "code",
   "execution_count": 32,
   "metadata": {},
   "outputs": [
    {
     "data": {
      "text/html": [
       "<div>\n",
       "<style scoped>\n",
       "    .dataframe tbody tr th:only-of-type {\n",
       "        vertical-align: middle;\n",
       "    }\n",
       "\n",
       "    .dataframe tbody tr th {\n",
       "        vertical-align: top;\n",
       "    }\n",
       "\n",
       "    .dataframe thead th {\n",
       "        text-align: right;\n",
       "    }\n",
       "</style>\n",
       "<table border=\"1\" class=\"dataframe\">\n",
       "  <thead>\n",
       "    <tr style=\"text-align: right;\">\n",
       "      <th></th>\n",
       "      <th>Education for people who left</th>\n",
       "      <th>Education for people who stayed</th>\n",
       "      <th>Companies Worked~left</th>\n",
       "      <th>Companies Worked~stayed</th>\n",
       "      <th>Work Exepereince~left</th>\n",
       "      <th>Work Exepereince~stayed</th>\n",
       "      <th>Training times for last year~left</th>\n",
       "      <th>Training times for last year~stayed</th>\n",
       "    </tr>\n",
       "  </thead>\n",
       "  <tbody>\n",
       "    <tr>\n",
       "      <th>Number of people above benchmark</th>\n",
       "      <td>162</td>\n",
       "      <td>856</td>\n",
       "      <td>100</td>\n",
       "      <td>506</td>\n",
       "      <td>48</td>\n",
       "      <td>463</td>\n",
       "      <td>115</td>\n",
       "      <td>683</td>\n",
       "    </tr>\n",
       "    <tr>\n",
       "      <th>Number of people below benchmark</th>\n",
       "      <td>75</td>\n",
       "      <td>377</td>\n",
       "      <td>137</td>\n",
       "      <td>727</td>\n",
       "      <td>189</td>\n",
       "      <td>770</td>\n",
       "      <td>122</td>\n",
       "      <td>550</td>\n",
       "    </tr>\n",
       "  </tbody>\n",
       "</table>\n",
       "</div>"
      ],
      "text/plain": [
       "                                  Education for people who left  \\\n",
       "Number of people above benchmark                            162   \n",
       "Number of people below benchmark                             75   \n",
       "\n",
       "                                  Education for people who stayed  \\\n",
       "Number of people above benchmark                              856   \n",
       "Number of people below benchmark                              377   \n",
       "\n",
       "                                  Companies Worked~left  \\\n",
       "Number of people above benchmark                    100   \n",
       "Number of people below benchmark                    137   \n",
       "\n",
       "                                  Companies Worked~stayed  \\\n",
       "Number of people above benchmark                      506   \n",
       "Number of people below benchmark                      727   \n",
       "\n",
       "                                  Work Exepereince~left  \\\n",
       "Number of people above benchmark                     48   \n",
       "Number of people below benchmark                    189   \n",
       "\n",
       "                                  Work Exepereince~stayed  \\\n",
       "Number of people above benchmark                      463   \n",
       "Number of people below benchmark                      770   \n",
       "\n",
       "                                  Training times for last year~left  \\\n",
       "Number of people above benchmark                                115   \n",
       "Number of people below benchmark                                122   \n",
       "\n",
       "                                  Training times for last year~stayed  \n",
       "Number of people above benchmark                                  683  \n",
       "Number of people below benchmark                                  550  "
      ]
     },
     "execution_count": 32,
     "metadata": {},
     "output_type": "execute_result"
    }
   ],
   "source": [
    "# Manual list creation for dataframe \n",
    "edu_people_above_benchamrk = [162,856,100,506,48,463,115,683]\n",
    "edu_people_below_benchamrk = [75,377,137,727,189,770,122,550]\n",
    "pd.DataFrame([edu_people_above_benchamrk,edu_people_below_benchamrk],index=['Number of people above benchmark','Number of people below benchmark']\n",
    "             ,columns=['Education for people who left','Education for people who stayed',\n",
    "                                                           'Companies Worked~left','Companies Worked~stayed','Work Exepereince~left','Work Exepereince~stayed',\n",
    "                                                           'Training times for last year~left','Training times for last year~stayed'])"
   ]
  },
  {
   "cell_type": "markdown",
   "metadata": {},
   "source": [
    "Person who have the most years of working expereince "
   ]
  },
  {
   "cell_type": "code",
   "execution_count": 35,
   "metadata": {},
   "outputs": [
    {
     "data": {
      "text/html": [
       "<div>\n",
       "<style scoped>\n",
       "    .dataframe tbody tr th:only-of-type {\n",
       "        vertical-align: middle;\n",
       "    }\n",
       "\n",
       "    .dataframe tbody tr th {\n",
       "        vertical-align: top;\n",
       "    }\n",
       "\n",
       "    .dataframe thead th {\n",
       "        text-align: right;\n",
       "    }\n",
       "</style>\n",
       "<table border=\"1\" class=\"dataframe\">\n",
       "  <thead>\n",
       "    <tr style=\"text-align: right;\">\n",
       "      <th></th>\n",
       "      <th>Age</th>\n",
       "      <th>Attrition</th>\n",
       "      <th>BusinessTravel</th>\n",
       "      <th>DailyRate</th>\n",
       "      <th>Department</th>\n",
       "      <th>DistanceFromHome</th>\n",
       "      <th>Education</th>\n",
       "      <th>EducationField</th>\n",
       "      <th>EmployeeNumber</th>\n",
       "      <th>EnvironmentSatisfaction</th>\n",
       "      <th>Gender</th>\n",
       "      <th>HourlyRate</th>\n",
       "      <th>JobInvolvement</th>\n",
       "      <th>JobLevel</th>\n",
       "      <th>JobRole</th>\n",
       "      <th>JobSatisfaction</th>\n",
       "      <th>MaritalStatus</th>\n",
       "      <th>MonthlyIncome</th>\n",
       "      <th>MonthlyRate</th>\n",
       "      <th>NumCompaniesWorked</th>\n",
       "      <th>OverTime</th>\n",
       "      <th>PercentSalaryHike</th>\n",
       "      <th>PerformanceRating</th>\n",
       "      <th>RelationshipSatisfaction</th>\n",
       "      <th>StockOptionLevel</th>\n",
       "      <th>TotalWorkingYears</th>\n",
       "      <th>TrainingTimesLastYear</th>\n",
       "      <th>WorkLifeBalance</th>\n",
       "      <th>YearsAtCompany</th>\n",
       "      <th>YearsInCurrentRole</th>\n",
       "      <th>YearsSinceLastPromotion</th>\n",
       "      <th>YearsWithCurrManager</th>\n",
       "    </tr>\n",
       "  </thead>\n",
       "  <tbody>\n",
       "    <tr>\n",
       "      <th>126</th>\n",
       "      <td>58</td>\n",
       "      <td>1</td>\n",
       "      <td>Travel_Rarely</td>\n",
       "      <td>147</td>\n",
       "      <td>Research &amp; Development</td>\n",
       "      <td>23</td>\n",
       "      <td>4</td>\n",
       "      <td>Medical</td>\n",
       "      <td>165</td>\n",
       "      <td>4</td>\n",
       "      <td>Female</td>\n",
       "      <td>94</td>\n",
       "      <td>3</td>\n",
       "      <td>3</td>\n",
       "      <td>Healthcare Representative</td>\n",
       "      <td>4</td>\n",
       "      <td>Married</td>\n",
       "      <td>10312</td>\n",
       "      <td>3465</td>\n",
       "      <td>1</td>\n",
       "      <td>No</td>\n",
       "      <td>12</td>\n",
       "      <td>3</td>\n",
       "      <td>4</td>\n",
       "      <td>1</td>\n",
       "      <td>40</td>\n",
       "      <td>3</td>\n",
       "      <td>2</td>\n",
       "      <td>40</td>\n",
       "      <td>10</td>\n",
       "      <td>15</td>\n",
       "      <td>6</td>\n",
       "    </tr>\n",
       "    <tr>\n",
       "      <th>595</th>\n",
       "      <td>58</td>\n",
       "      <td>1</td>\n",
       "      <td>Travel_Rarely</td>\n",
       "      <td>286</td>\n",
       "      <td>Research &amp; Development</td>\n",
       "      <td>2</td>\n",
       "      <td>4</td>\n",
       "      <td>Life Sciences</td>\n",
       "      <td>825</td>\n",
       "      <td>4</td>\n",
       "      <td>Male</td>\n",
       "      <td>31</td>\n",
       "      <td>3</td>\n",
       "      <td>5</td>\n",
       "      <td>Research Director</td>\n",
       "      <td>2</td>\n",
       "      <td>Single</td>\n",
       "      <td>19246</td>\n",
       "      <td>25761</td>\n",
       "      <td>7</td>\n",
       "      <td>Yes</td>\n",
       "      <td>12</td>\n",
       "      <td>3</td>\n",
       "      <td>4</td>\n",
       "      <td>0</td>\n",
       "      <td>40</td>\n",
       "      <td>2</td>\n",
       "      <td>3</td>\n",
       "      <td>31</td>\n",
       "      <td>15</td>\n",
       "      <td>13</td>\n",
       "      <td>8</td>\n",
       "    </tr>\n",
       "  </tbody>\n",
       "</table>\n",
       "</div>"
      ],
      "text/plain": [
       "     Age  Attrition BusinessTravel  DailyRate              Department  \\\n",
       "126   58          1  Travel_Rarely        147  Research & Development   \n",
       "595   58          1  Travel_Rarely        286  Research & Development   \n",
       "\n",
       "     DistanceFromHome  Education EducationField  EmployeeNumber  \\\n",
       "126                23          4        Medical             165   \n",
       "595                 2          4  Life Sciences             825   \n",
       "\n",
       "     EnvironmentSatisfaction  Gender  HourlyRate  JobInvolvement  JobLevel  \\\n",
       "126                        4  Female          94               3         3   \n",
       "595                        4    Male          31               3         5   \n",
       "\n",
       "                       JobRole  JobSatisfaction MaritalStatus  MonthlyIncome  \\\n",
       "126  Healthcare Representative                4       Married          10312   \n",
       "595          Research Director                2        Single          19246   \n",
       "\n",
       "     MonthlyRate  NumCompaniesWorked OverTime  PercentSalaryHike  \\\n",
       "126         3465                   1       No                 12   \n",
       "595        25761                   7      Yes                 12   \n",
       "\n",
       "     PerformanceRating  RelationshipSatisfaction  StockOptionLevel  \\\n",
       "126                  3                         4                 1   \n",
       "595                  3                         4                 0   \n",
       "\n",
       "     TotalWorkingYears  TrainingTimesLastYear  WorkLifeBalance  \\\n",
       "126                 40                      3                2   \n",
       "595                 40                      2                3   \n",
       "\n",
       "     YearsAtCompany  YearsInCurrentRole  YearsSinceLastPromotion  \\\n",
       "126              40                  10                       15   \n",
       "595              31                  15                       13   \n",
       "\n",
       "     YearsWithCurrManager  \n",
       "126                     6  \n",
       "595                     8  "
      ]
     },
     "execution_count": 35,
     "metadata": {},
     "output_type": "execute_result"
    }
   ],
   "source": [
    "df['TotalWorkingYears'].max()\n",
    "df[df['TotalWorkingYears'] == 40]"
   ]
  },
  {
   "cell_type": "markdown",
   "metadata": {},
   "source": [
    "# ================================================================"
   ]
  },
  {
   "cell_type": "markdown",
   "metadata": {},
   "source": [
    "**Emotion Info**"
   ]
  },
  {
   "cell_type": "code",
   "execution_count": 37,
   "metadata": {},
   "outputs": [
    {
     "data": {
      "text/html": [
       "<div>\n",
       "<style scoped>\n",
       "    .dataframe tbody tr th:only-of-type {\n",
       "        vertical-align: middle;\n",
       "    }\n",
       "\n",
       "    .dataframe tbody tr th {\n",
       "        vertical-align: top;\n",
       "    }\n",
       "\n",
       "    .dataframe thead th {\n",
       "        text-align: right;\n",
       "    }\n",
       "</style>\n",
       "<table border=\"1\" class=\"dataframe\">\n",
       "  <thead>\n",
       "    <tr style=\"text-align: right;\">\n",
       "      <th></th>\n",
       "      <th>Average Score Stayed</th>\n",
       "      <th>Average Score Left</th>\n",
       "      <th>Benchmark Score</th>\n",
       "    </tr>\n",
       "  </thead>\n",
       "  <tbody>\n",
       "    <tr>\n",
       "      <th>EnvironmentSatisfaction</th>\n",
       "      <td>2.77</td>\n",
       "      <td>2.46</td>\n",
       "      <td>2.72</td>\n",
       "    </tr>\n",
       "    <tr>\n",
       "      <th>RelationshipSatisfaction</th>\n",
       "      <td>2.73</td>\n",
       "      <td>2.60</td>\n",
       "      <td>2.71</td>\n",
       "    </tr>\n",
       "  </tbody>\n",
       "</table>\n",
       "</div>"
      ],
      "text/plain": [
       "                          Average Score Stayed  Average Score Left  \\\n",
       "EnvironmentSatisfaction                   2.77                2.46   \n",
       "RelationshipSatisfaction                  2.73                2.60   \n",
       "\n",
       "                          Benchmark Score  \n",
       "EnvironmentSatisfaction              2.72  \n",
       "RelationshipSatisfaction             2.71  "
      ]
     },
     "execution_count": 37,
     "metadata": {},
     "output_type": "execute_result"
    }
   ],
   "source": [
    "# Comparing average score to benchmark\n",
    "emos = round(pd.DataFrame(emotions_stayed.mean(),columns=['Average Score Stayed']),ndigits = 2).iloc[1:,:]\n",
    "emol = round(pd.DataFrame(emotions_left.mean(),columns=['Average Score Left']),ndigits = 2).iloc[1:,:]\n",
    "pd.concat([emos,emol,emotion_benchmark], axis=1)"
   ]
  },
  {
   "cell_type": "markdown",
   "metadata": {},
   "source": [
    "**Analysis:** \n",
    "People that left are less satisfy with the environment they worked in and the relationship between their colleagues. However, the difference is not far form each other \n"
   ]
  },
  {
   "cell_type": "code",
   "execution_count": null,
   "metadata": {},
   "outputs": [],
   "source": [
    "# Calculation to number of people who are above or below the benchmark\n",
    "esl = (emotions_left['EnvironmentSatisfaction']>= 2.46).value_counts()\n",
    "ess =(emotions_stayed['EnvironmentSatisfaction']>= 2.77).value_counts()\n",
    "resl =(emotions_left['RelationshipSatisfaction']>= 2.60).value_counts()\n",
    "ress =(emotions_stayed['RelationshipSatisfaction']>= 2.73).value_counts()\n",
    "\n",
    "pd.DataFrame([esl,ess,resl,ress])"
   ]
  },
  {
   "cell_type": "markdown",
   "metadata": {},
   "source": [
    "Number of people above the average score"
   ]
  },
  {
   "cell_type": "code",
   "execution_count": 45,
   "metadata": {},
   "outputs": [
    {
     "data": {
      "text/html": [
       "<div>\n",
       "<style scoped>\n",
       "    .dataframe tbody tr th:only-of-type {\n",
       "        vertical-align: middle;\n",
       "    }\n",
       "\n",
       "    .dataframe tbody tr th {\n",
       "        vertical-align: top;\n",
       "    }\n",
       "\n",
       "    .dataframe thead th {\n",
       "        text-align: right;\n",
       "    }\n",
       "</style>\n",
       "<table border=\"1\" class=\"dataframe\">\n",
       "  <thead>\n",
       "    <tr style=\"text-align: right;\">\n",
       "      <th></th>\n",
       "      <th>Environment Satisfaction~left</th>\n",
       "      <th>Environment Satisfaction~stayed</th>\n",
       "      <th>Relationship Satisfaction~left</th>\n",
       "      <th>Relationship Satisfaction~stayed</th>\n",
       "    </tr>\n",
       "  </thead>\n",
       "  <tbody>\n",
       "    <tr>\n",
       "      <th>Number of people above benchmark</th>\n",
       "      <td>122</td>\n",
       "      <td>777</td>\n",
       "      <td>135</td>\n",
       "      <td>756</td>\n",
       "    </tr>\n",
       "    <tr>\n",
       "      <th>Number of people below benchmark</th>\n",
       "      <td>115</td>\n",
       "      <td>456</td>\n",
       "      <td>102</td>\n",
       "      <td>477</td>\n",
       "    </tr>\n",
       "  </tbody>\n",
       "</table>\n",
       "</div>"
      ],
      "text/plain": [
       "                                  Environment Satisfaction~left  \\\n",
       "Number of people above benchmark                            122   \n",
       "Number of people below benchmark                            115   \n",
       "\n",
       "                                  Environment Satisfaction~stayed  \\\n",
       "Number of people above benchmark                              777   \n",
       "Number of people below benchmark                              456   \n",
       "\n",
       "                                  Relationship Satisfaction~left  \\\n",
       "Number of people above benchmark                             135   \n",
       "Number of people below benchmark                             102   \n",
       "\n",
       "                                  Relationship Satisfaction~stayed  \n",
       "Number of people above benchmark                               756  \n",
       "Number of people below benchmark                               477  "
      ]
     },
     "execution_count": 45,
     "metadata": {},
     "output_type": "execute_result"
    }
   ],
   "source": [
    "# Manual list creation for dataframe \n",
    "emotion_people_above_benchamrk = [122,777,135,756]\n",
    "emotion_people_below_benchamrk = [115,456,102,477]\n",
    "pd.DataFrame([emotion_people_above_benchamrk,emotion_people_below_benchamrk],index=['Number of people above benchmark','Number of people below benchmark']\n",
    "             ,columns=['Environment Satisfaction~left','Environment Satisfaction~stayed','Relationship Satisfaction~left'\n",
    "                       ,'Relationship Satisfaction~stayed'])"
   ]
  },
  {
   "cell_type": "markdown",
   "metadata": {},
   "source": [
    "# ==========================================================="
   ]
  },
  {
   "cell_type": "markdown",
   "metadata": {},
   "source": [
    "**Time Info**"
   ]
  },
  {
   "cell_type": "markdown",
   "metadata": {},
   "source": [
    "Comparing average score to benchmark"
   ]
  },
  {
   "cell_type": "code",
   "execution_count": 59,
   "metadata": {},
   "outputs": [
    {
     "data": {
      "text/html": [
       "<div>\n",
       "<style scoped>\n",
       "    .dataframe tbody tr th:only-of-type {\n",
       "        vertical-align: middle;\n",
       "    }\n",
       "\n",
       "    .dataframe tbody tr th {\n",
       "        vertical-align: top;\n",
       "    }\n",
       "\n",
       "    .dataframe thead th {\n",
       "        text-align: right;\n",
       "    }\n",
       "</style>\n",
       "<table border=\"1\" class=\"dataframe\">\n",
       "  <thead>\n",
       "    <tr style=\"text-align: right;\">\n",
       "      <th></th>\n",
       "      <th>Average Years Stayed</th>\n",
       "      <th>Average Years Left</th>\n",
       "      <th>Benchmark Score</th>\n",
       "    </tr>\n",
       "  </thead>\n",
       "  <tbody>\n",
       "    <tr>\n",
       "      <th>YearsAtCompany</th>\n",
       "      <td>7.37</td>\n",
       "      <td>5.13</td>\n",
       "      <td>7.01</td>\n",
       "    </tr>\n",
       "    <tr>\n",
       "      <th>YearsInCurrentRole</th>\n",
       "      <td>4.48</td>\n",
       "      <td>2.90</td>\n",
       "      <td>4.23</td>\n",
       "    </tr>\n",
       "    <tr>\n",
       "      <th>YearsSinceLastPromotion</th>\n",
       "      <td>2.23</td>\n",
       "      <td>1.95</td>\n",
       "      <td>2.19</td>\n",
       "    </tr>\n",
       "    <tr>\n",
       "      <th>YearsWithCurrManager</th>\n",
       "      <td>4.37</td>\n",
       "      <td>2.85</td>\n",
       "      <td>4.12</td>\n",
       "    </tr>\n",
       "  </tbody>\n",
       "</table>\n",
       "</div>"
      ],
      "text/plain": [
       "                         Average Years Stayed  Average Years Left  \\\n",
       "YearsAtCompany                           7.37                5.13   \n",
       "YearsInCurrentRole                       4.48                2.90   \n",
       "YearsSinceLastPromotion                  2.23                1.95   \n",
       "YearsWithCurrManager                     4.37                2.85   \n",
       "\n",
       "                         Benchmark Score  \n",
       "YearsAtCompany                      7.01  \n",
       "YearsInCurrentRole                  4.23  \n",
       "YearsSinceLastPromotion             2.19  \n",
       "YearsWithCurrManager                4.12  "
      ]
     },
     "execution_count": 59,
     "metadata": {},
     "output_type": "execute_result"
    }
   ],
   "source": [
    "# Comparing average score to benchmark\n",
    "ts = round(pd.DataFrame(time_stayed.mean(),columns=['Average Years Stayed']),ndigits = 2).iloc[1:,:]\n",
    "tl = round(pd.DataFrame(time_left.mean(),columns=['Average Years Left']),ndigits = 2).iloc[1:,:]\n",
    "pd.concat([ts,tl,time_benchmark], axis=1)"
   ]
  },
  {
   "cell_type": "markdown",
   "metadata": {},
   "source": [
    "**Analysis** From the data we can predict that employees that leave are usually new employees"
   ]
  },
  {
   "cell_type": "code",
   "execution_count": null,
   "metadata": {},
   "outputs": [],
   "source": [
    "# Calculation to number of people who are above or below the benchmark\n",
    "yacl = (time_left['YearsAtCompany']>= 7.01).value_counts()\n",
    "yacs =(time_stayed['YearsAtCompany']>= 7.01).value_counts()\n",
    "yicrl =(time_left['YearsInCurrentRole']>= 4.23).value_counts()\n",
    "yicrs =(time_stayed['YearsInCurrentRole']>= 4.23).value_counts()\n",
    "yslpl = (time_left['YearsSinceLastPromotion']>= 2.19).value_counts()\n",
    "yslps =(time_stayed['YearsSinceLastPromotion']>= 2.19).value_counts()\n",
    "ywcml =(time_left['YearsWithCurrManager']>= 4.12).value_counts()\n",
    "ywcms =(time_stayed['YearsWithCurrManager']>= 4.12).value_counts()\n",
    "\n",
    "pd.DataFrame([yacl,yacs,yicrl,yicrs,yslpl,yslps,ywcml,ywcms])"
   ]
  },
  {
   "cell_type": "markdown",
   "metadata": {},
   "source": [
    "Number of people above average years"
   ]
  },
  {
   "cell_type": "code",
   "execution_count": 61,
   "metadata": {},
   "outputs": [
    {
     "data": {
      "text/html": [
       "<div>\n",
       "<style scoped>\n",
       "    .dataframe tbody tr th:only-of-type {\n",
       "        vertical-align: middle;\n",
       "    }\n",
       "\n",
       "    .dataframe tbody tr th {\n",
       "        vertical-align: top;\n",
       "    }\n",
       "\n",
       "    .dataframe thead th {\n",
       "        text-align: right;\n",
       "    }\n",
       "</style>\n",
       "<table border=\"1\" class=\"dataframe\">\n",
       "  <thead>\n",
       "    <tr style=\"text-align: right;\">\n",
       "      <th></th>\n",
       "      <th>Years At Company~left</th>\n",
       "      <th>Years At Company~stayed</th>\n",
       "      <th>Years In Current Role~left</th>\n",
       "      <th>Years In Current Role~stayed</th>\n",
       "      <th>Years Since Last Promotion~left</th>\n",
       "      <th>Years Since Last Promotion</th>\n",
       "      <th>Years With Current Manager~left</th>\n",
       "      <th>Years With Current Manager~stayed</th>\n",
       "    </tr>\n",
       "  </thead>\n",
       "  <tbody>\n",
       "    <tr>\n",
       "      <th>Number of people above average years</th>\n",
       "      <td>55</td>\n",
       "      <td>473</td>\n",
       "      <td>54</td>\n",
       "      <td>504</td>\n",
       "      <td>51</td>\n",
       "      <td>322</td>\n",
       "      <td>61</td>\n",
       "      <td>486</td>\n",
       "    </tr>\n",
       "    <tr>\n",
       "      <th>Number of people below average years</th>\n",
       "      <td>182</td>\n",
       "      <td>760</td>\n",
       "      <td>183</td>\n",
       "      <td>729</td>\n",
       "      <td>186</td>\n",
       "      <td>911</td>\n",
       "      <td>176</td>\n",
       "      <td>747</td>\n",
       "    </tr>\n",
       "  </tbody>\n",
       "</table>\n",
       "</div>"
      ],
      "text/plain": [
       "                                      Years At Company~left  \\\n",
       "Number of people above average years                     55   \n",
       "Number of people below average years                    182   \n",
       "\n",
       "                                      Years At Company~stayed  \\\n",
       "Number of people above average years                      473   \n",
       "Number of people below average years                      760   \n",
       "\n",
       "                                      Years In Current Role~left  \\\n",
       "Number of people above average years                          54   \n",
       "Number of people below average years                         183   \n",
       "\n",
       "                                      Years In Current Role~stayed  \\\n",
       "Number of people above average years                           504   \n",
       "Number of people below average years                           729   \n",
       "\n",
       "                                      Years Since Last Promotion~left  \\\n",
       "Number of people above average years                               51   \n",
       "Number of people below average years                              186   \n",
       "\n",
       "                                      Years Since Last Promotion  \\\n",
       "Number of people above average years                         322   \n",
       "Number of people below average years                         911   \n",
       "\n",
       "                                      Years With Current Manager~left  \\\n",
       "Number of people above average years                               61   \n",
       "Number of people below average years                              176   \n",
       "\n",
       "                                      Years With Current Manager~stayed  \n",
       "Number of people above average years                                486  \n",
       "Number of people below average years                                747  "
      ]
     },
     "execution_count": 61,
     "metadata": {},
     "output_type": "execute_result"
    }
   ],
   "source": [
    "# Manual list creation for dataframe \n",
    "time_people_above_benchamrk = [55,473,54,504,51,322,61,486]\n",
    "time_people_below_benchamrk = [182,760,183,729,186,911,176,747]\n",
    "pd.DataFrame([time_people_above_benchamrk,time_people_below_benchamrk],index=['Number of people above average years','Number of people below average years']\n",
    "             ,columns=['Years At Company~left','Years At Company~stayed','Years In Current Role~left'\n",
    "                       ,'Years In Current Role~stayed','Years Since Last Promotion~left','Years Since Last Promotion',\n",
    "                       'Years With Current Manager~left'\n",
    "                       ,'Years With Current Manager~stayed'])"
   ]
  },
  {
   "cell_type": "markdown",
   "metadata": {},
   "source": [
    "Over Time (Amount and percentage of people who worked overtime)"
   ]
  },
  {
   "cell_type": "code",
   "execution_count": 62,
   "metadata": {},
   "outputs": [
    {
     "data": {
      "text/plain": [
       "No     1054\n",
       "Yes     416\n",
       "Name: OverTime, dtype: int64"
      ]
     },
     "execution_count": 62,
     "metadata": {},
     "output_type": "execute_result"
    }
   ],
   "source": [
    "# Total number of people who worked over time \n",
    "df['OverTime'].value_counts()"
   ]
  },
  {
   "cell_type": "code",
   "execution_count": 63,
   "metadata": {},
   "outputs": [
    {
     "data": {
      "text/plain": [
       "28.3"
      ]
     },
     "execution_count": 63,
     "metadata": {},
     "output_type": "execute_result"
    }
   ],
   "source": [
    "# Percentage of people who worked overtime\n",
    "yes = 416\n",
    "no = 1054\n",
    "total = yes+no\n",
    "percentage = yes/total *100\n",
    "round(percentage, ndigits=2)"
   ]
  },
  {
   "cell_type": "markdown",
   "metadata": {},
   "source": [
    "Employee who are the most loyal (top 10)"
   ]
  },
  {
   "cell_type": "code",
   "execution_count": 75,
   "metadata": {},
   "outputs": [
    {
     "data": {
      "text/html": [
       "<div>\n",
       "<style scoped>\n",
       "    .dataframe tbody tr th:only-of-type {\n",
       "        vertical-align: middle;\n",
       "    }\n",
       "\n",
       "    .dataframe tbody tr th {\n",
       "        vertical-align: top;\n",
       "    }\n",
       "\n",
       "    .dataframe thead th {\n",
       "        text-align: right;\n",
       "    }\n",
       "</style>\n",
       "<table border=\"1\" class=\"dataframe\">\n",
       "  <thead>\n",
       "    <tr style=\"text-align: right;\">\n",
       "      <th></th>\n",
       "      <th>Age</th>\n",
       "      <th>Attrition</th>\n",
       "      <th>BusinessTravel</th>\n",
       "      <th>DailyRate</th>\n",
       "      <th>Department</th>\n",
       "      <th>DistanceFromHome</th>\n",
       "      <th>Education</th>\n",
       "      <th>EducationField</th>\n",
       "      <th>EmployeeNumber</th>\n",
       "      <th>EnvironmentSatisfaction</th>\n",
       "      <th>Gender</th>\n",
       "      <th>HourlyRate</th>\n",
       "      <th>JobInvolvement</th>\n",
       "      <th>JobLevel</th>\n",
       "      <th>JobRole</th>\n",
       "      <th>JobSatisfaction</th>\n",
       "      <th>MaritalStatus</th>\n",
       "      <th>MonthlyIncome</th>\n",
       "      <th>MonthlyRate</th>\n",
       "      <th>NumCompaniesWorked</th>\n",
       "      <th>OverTime</th>\n",
       "      <th>PercentSalaryHike</th>\n",
       "      <th>PerformanceRating</th>\n",
       "      <th>RelationshipSatisfaction</th>\n",
       "      <th>StockOptionLevel</th>\n",
       "      <th>TotalWorkingYears</th>\n",
       "      <th>TrainingTimesLastYear</th>\n",
       "      <th>WorkLifeBalance</th>\n",
       "      <th>YearsAtCompany</th>\n",
       "      <th>YearsInCurrentRole</th>\n",
       "      <th>YearsSinceLastPromotion</th>\n",
       "      <th>YearsWithCurrManager</th>\n",
       "    </tr>\n",
       "  </thead>\n",
       "  <tbody>\n",
       "    <tr>\n",
       "      <th>98</th>\n",
       "      <td>58</td>\n",
       "      <td>0</td>\n",
       "      <td>Travel_Rarely</td>\n",
       "      <td>682</td>\n",
       "      <td>Sales</td>\n",
       "      <td>10</td>\n",
       "      <td>4</td>\n",
       "      <td>Medical</td>\n",
       "      <td>131</td>\n",
       "      <td>4</td>\n",
       "      <td>Male</td>\n",
       "      <td>37</td>\n",
       "      <td>3</td>\n",
       "      <td>4</td>\n",
       "      <td>Sales Executive</td>\n",
       "      <td>3</td>\n",
       "      <td>Single</td>\n",
       "      <td>13872</td>\n",
       "      <td>24409</td>\n",
       "      <td>0</td>\n",
       "      <td>No</td>\n",
       "      <td>13</td>\n",
       "      <td>3</td>\n",
       "      <td>3</td>\n",
       "      <td>0</td>\n",
       "      <td>38</td>\n",
       "      <td>1</td>\n",
       "      <td>2</td>\n",
       "      <td>37</td>\n",
       "      <td>10</td>\n",
       "      <td>1</td>\n",
       "      <td>8</td>\n",
       "    </tr>\n",
       "    <tr>\n",
       "      <th>270</th>\n",
       "      <td>55</td>\n",
       "      <td>0</td>\n",
       "      <td>Travel_Rarely</td>\n",
       "      <td>452</td>\n",
       "      <td>Research &amp; Development</td>\n",
       "      <td>1</td>\n",
       "      <td>3</td>\n",
       "      <td>Medical</td>\n",
       "      <td>374</td>\n",
       "      <td>4</td>\n",
       "      <td>Male</td>\n",
       "      <td>81</td>\n",
       "      <td>3</td>\n",
       "      <td>5</td>\n",
       "      <td>Manager</td>\n",
       "      <td>1</td>\n",
       "      <td>Single</td>\n",
       "      <td>19045</td>\n",
       "      <td>18938</td>\n",
       "      <td>0</td>\n",
       "      <td>Yes</td>\n",
       "      <td>14</td>\n",
       "      <td>3</td>\n",
       "      <td>3</td>\n",
       "      <td>0</td>\n",
       "      <td>37</td>\n",
       "      <td>2</td>\n",
       "      <td>3</td>\n",
       "      <td>36</td>\n",
       "      <td>10</td>\n",
       "      <td>4</td>\n",
       "      <td>13</td>\n",
       "    </tr>\n",
       "    <tr>\n",
       "      <th>1116</th>\n",
       "      <td>55</td>\n",
       "      <td>0</td>\n",
       "      <td>Travel_Rarely</td>\n",
       "      <td>685</td>\n",
       "      <td>Sales</td>\n",
       "      <td>26</td>\n",
       "      <td>5</td>\n",
       "      <td>Marketing</td>\n",
       "      <td>1578</td>\n",
       "      <td>3</td>\n",
       "      <td>Male</td>\n",
       "      <td>60</td>\n",
       "      <td>2</td>\n",
       "      <td>5</td>\n",
       "      <td>Manager</td>\n",
       "      <td>4</td>\n",
       "      <td>Married</td>\n",
       "      <td>19586</td>\n",
       "      <td>23037</td>\n",
       "      <td>1</td>\n",
       "      <td>No</td>\n",
       "      <td>21</td>\n",
       "      <td>4</td>\n",
       "      <td>3</td>\n",
       "      <td>1</td>\n",
       "      <td>36</td>\n",
       "      <td>3</td>\n",
       "      <td>3</td>\n",
       "      <td>36</td>\n",
       "      <td>6</td>\n",
       "      <td>2</td>\n",
       "      <td>13</td>\n",
       "    </tr>\n",
       "    <tr>\n",
       "      <th>561</th>\n",
       "      <td>52</td>\n",
       "      <td>0</td>\n",
       "      <td>Travel_Rarely</td>\n",
       "      <td>621</td>\n",
       "      <td>Sales</td>\n",
       "      <td>3</td>\n",
       "      <td>4</td>\n",
       "      <td>Marketing</td>\n",
       "      <td>776</td>\n",
       "      <td>3</td>\n",
       "      <td>Male</td>\n",
       "      <td>31</td>\n",
       "      <td>2</td>\n",
       "      <td>4</td>\n",
       "      <td>Manager</td>\n",
       "      <td>1</td>\n",
       "      <td>Married</td>\n",
       "      <td>16856</td>\n",
       "      <td>10084</td>\n",
       "      <td>1</td>\n",
       "      <td>No</td>\n",
       "      <td>11</td>\n",
       "      <td>3</td>\n",
       "      <td>1</td>\n",
       "      <td>0</td>\n",
       "      <td>34</td>\n",
       "      <td>3</td>\n",
       "      <td>4</td>\n",
       "      <td>34</td>\n",
       "      <td>6</td>\n",
       "      <td>1</td>\n",
       "      <td>16</td>\n",
       "    </tr>\n",
       "    <tr>\n",
       "      <th>962</th>\n",
       "      <td>51</td>\n",
       "      <td>0</td>\n",
       "      <td>Travel_Rarely</td>\n",
       "      <td>770</td>\n",
       "      <td>Human Resources</td>\n",
       "      <td>5</td>\n",
       "      <td>3</td>\n",
       "      <td>Life Sciences</td>\n",
       "      <td>1352</td>\n",
       "      <td>3</td>\n",
       "      <td>Male</td>\n",
       "      <td>84</td>\n",
       "      <td>3</td>\n",
       "      <td>4</td>\n",
       "      <td>Manager</td>\n",
       "      <td>2</td>\n",
       "      <td>Divorced</td>\n",
       "      <td>14026</td>\n",
       "      <td>17588</td>\n",
       "      <td>1</td>\n",
       "      <td>Yes</td>\n",
       "      <td>11</td>\n",
       "      <td>3</td>\n",
       "      <td>2</td>\n",
       "      <td>1</td>\n",
       "      <td>33</td>\n",
       "      <td>2</td>\n",
       "      <td>3</td>\n",
       "      <td>33</td>\n",
       "      <td>9</td>\n",
       "      <td>0</td>\n",
       "      <td>10</td>\n",
       "    </tr>\n",
       "    <tr>\n",
       "      <th>914</th>\n",
       "      <td>55</td>\n",
       "      <td>0</td>\n",
       "      <td>Non-Travel</td>\n",
       "      <td>177</td>\n",
       "      <td>Research &amp; Development</td>\n",
       "      <td>8</td>\n",
       "      <td>1</td>\n",
       "      <td>Medical</td>\n",
       "      <td>1278</td>\n",
       "      <td>4</td>\n",
       "      <td>Male</td>\n",
       "      <td>37</td>\n",
       "      <td>2</td>\n",
       "      <td>4</td>\n",
       "      <td>Healthcare Representative</td>\n",
       "      <td>2</td>\n",
       "      <td>Divorced</td>\n",
       "      <td>13577</td>\n",
       "      <td>25592</td>\n",
       "      <td>1</td>\n",
       "      <td>Yes</td>\n",
       "      <td>15</td>\n",
       "      <td>3</td>\n",
       "      <td>4</td>\n",
       "      <td>1</td>\n",
       "      <td>34</td>\n",
       "      <td>3</td>\n",
       "      <td>3</td>\n",
       "      <td>33</td>\n",
       "      <td>9</td>\n",
       "      <td>15</td>\n",
       "      <td>0</td>\n",
       "    </tr>\n",
       "    <tr>\n",
       "      <th>190</th>\n",
       "      <td>52</td>\n",
       "      <td>0</td>\n",
       "      <td>Travel_Rarely</td>\n",
       "      <td>699</td>\n",
       "      <td>Research &amp; Development</td>\n",
       "      <td>1</td>\n",
       "      <td>4</td>\n",
       "      <td>Life Sciences</td>\n",
       "      <td>259</td>\n",
       "      <td>3</td>\n",
       "      <td>Male</td>\n",
       "      <td>65</td>\n",
       "      <td>2</td>\n",
       "      <td>5</td>\n",
       "      <td>Manager</td>\n",
       "      <td>3</td>\n",
       "      <td>Married</td>\n",
       "      <td>19999</td>\n",
       "      <td>5678</td>\n",
       "      <td>0</td>\n",
       "      <td>No</td>\n",
       "      <td>14</td>\n",
       "      <td>3</td>\n",
       "      <td>1</td>\n",
       "      <td>1</td>\n",
       "      <td>34</td>\n",
       "      <td>5</td>\n",
       "      <td>3</td>\n",
       "      <td>33</td>\n",
       "      <td>18</td>\n",
       "      <td>11</td>\n",
       "      <td>9</td>\n",
       "    </tr>\n",
       "    <tr>\n",
       "      <th>237</th>\n",
       "      <td>52</td>\n",
       "      <td>0</td>\n",
       "      <td>Non-Travel</td>\n",
       "      <td>771</td>\n",
       "      <td>Sales</td>\n",
       "      <td>2</td>\n",
       "      <td>4</td>\n",
       "      <td>Life Sciences</td>\n",
       "      <td>329</td>\n",
       "      <td>1</td>\n",
       "      <td>Male</td>\n",
       "      <td>79</td>\n",
       "      <td>2</td>\n",
       "      <td>5</td>\n",
       "      <td>Manager</td>\n",
       "      <td>3</td>\n",
       "      <td>Single</td>\n",
       "      <td>19068</td>\n",
       "      <td>21030</td>\n",
       "      <td>1</td>\n",
       "      <td>Yes</td>\n",
       "      <td>18</td>\n",
       "      <td>3</td>\n",
       "      <td>4</td>\n",
       "      <td>0</td>\n",
       "      <td>33</td>\n",
       "      <td>2</td>\n",
       "      <td>4</td>\n",
       "      <td>33</td>\n",
       "      <td>7</td>\n",
       "      <td>15</td>\n",
       "      <td>12</td>\n",
       "    </tr>\n",
       "    <tr>\n",
       "      <th>477</th>\n",
       "      <td>50</td>\n",
       "      <td>0</td>\n",
       "      <td>Travel_Frequently</td>\n",
       "      <td>1246</td>\n",
       "      <td>Human Resources</td>\n",
       "      <td>3</td>\n",
       "      <td>3</td>\n",
       "      <td>Medical</td>\n",
       "      <td>644</td>\n",
       "      <td>1</td>\n",
       "      <td>Male</td>\n",
       "      <td>99</td>\n",
       "      <td>3</td>\n",
       "      <td>5</td>\n",
       "      <td>Manager</td>\n",
       "      <td>2</td>\n",
       "      <td>Married</td>\n",
       "      <td>18200</td>\n",
       "      <td>7999</td>\n",
       "      <td>1</td>\n",
       "      <td>No</td>\n",
       "      <td>11</td>\n",
       "      <td>3</td>\n",
       "      <td>3</td>\n",
       "      <td>1</td>\n",
       "      <td>32</td>\n",
       "      <td>2</td>\n",
       "      <td>3</td>\n",
       "      <td>32</td>\n",
       "      <td>5</td>\n",
       "      <td>10</td>\n",
       "      <td>7</td>\n",
       "    </tr>\n",
       "    <tr>\n",
       "      <th>1086</th>\n",
       "      <td>50</td>\n",
       "      <td>0</td>\n",
       "      <td>Travel_Frequently</td>\n",
       "      <td>333</td>\n",
       "      <td>Research &amp; Development</td>\n",
       "      <td>22</td>\n",
       "      <td>5</td>\n",
       "      <td>Medical</td>\n",
       "      <td>1539</td>\n",
       "      <td>3</td>\n",
       "      <td>Male</td>\n",
       "      <td>88</td>\n",
       "      <td>1</td>\n",
       "      <td>4</td>\n",
       "      <td>Research Director</td>\n",
       "      <td>4</td>\n",
       "      <td>Single</td>\n",
       "      <td>14411</td>\n",
       "      <td>24450</td>\n",
       "      <td>1</td>\n",
       "      <td>Yes</td>\n",
       "      <td>13</td>\n",
       "      <td>3</td>\n",
       "      <td>4</td>\n",
       "      <td>0</td>\n",
       "      <td>32</td>\n",
       "      <td>2</td>\n",
       "      <td>3</td>\n",
       "      <td>32</td>\n",
       "      <td>6</td>\n",
       "      <td>13</td>\n",
       "      <td>9</td>\n",
       "    </tr>\n",
       "  </tbody>\n",
       "</table>\n",
       "</div>"
      ],
      "text/plain": [
       "      Age  Attrition     BusinessTravel  DailyRate              Department  \\\n",
       "98     58          0      Travel_Rarely        682                   Sales   \n",
       "270    55          0      Travel_Rarely        452  Research & Development   \n",
       "1116   55          0      Travel_Rarely        685                   Sales   \n",
       "561    52          0      Travel_Rarely        621                   Sales   \n",
       "962    51          0      Travel_Rarely        770         Human Resources   \n",
       "914    55          0         Non-Travel        177  Research & Development   \n",
       "190    52          0      Travel_Rarely        699  Research & Development   \n",
       "237    52          0         Non-Travel        771                   Sales   \n",
       "477    50          0  Travel_Frequently       1246         Human Resources   \n",
       "1086   50          0  Travel_Frequently        333  Research & Development   \n",
       "\n",
       "      DistanceFromHome  Education EducationField  EmployeeNumber  \\\n",
       "98                  10          4        Medical             131   \n",
       "270                  1          3        Medical             374   \n",
       "1116                26          5      Marketing            1578   \n",
       "561                  3          4      Marketing             776   \n",
       "962                  5          3  Life Sciences            1352   \n",
       "914                  8          1        Medical            1278   \n",
       "190                  1          4  Life Sciences             259   \n",
       "237                  2          4  Life Sciences             329   \n",
       "477                  3          3        Medical             644   \n",
       "1086                22          5        Medical            1539   \n",
       "\n",
       "      EnvironmentSatisfaction Gender  HourlyRate  JobInvolvement  JobLevel  \\\n",
       "98                          4   Male          37               3         4   \n",
       "270                         4   Male          81               3         5   \n",
       "1116                        3   Male          60               2         5   \n",
       "561                         3   Male          31               2         4   \n",
       "962                         3   Male          84               3         4   \n",
       "914                         4   Male          37               2         4   \n",
       "190                         3   Male          65               2         5   \n",
       "237                         1   Male          79               2         5   \n",
       "477                         1   Male          99               3         5   \n",
       "1086                        3   Male          88               1         4   \n",
       "\n",
       "                        JobRole  JobSatisfaction MaritalStatus  MonthlyIncome  \\\n",
       "98              Sales Executive                3        Single          13872   \n",
       "270                     Manager                1        Single          19045   \n",
       "1116                    Manager                4       Married          19586   \n",
       "561                     Manager                1       Married          16856   \n",
       "962                     Manager                2      Divorced          14026   \n",
       "914   Healthcare Representative                2      Divorced          13577   \n",
       "190                     Manager                3       Married          19999   \n",
       "237                     Manager                3        Single          19068   \n",
       "477                     Manager                2       Married          18200   \n",
       "1086          Research Director                4        Single          14411   \n",
       "\n",
       "      MonthlyRate  NumCompaniesWorked OverTime  PercentSalaryHike  \\\n",
       "98          24409                   0       No                 13   \n",
       "270         18938                   0      Yes                 14   \n",
       "1116        23037                   1       No                 21   \n",
       "561         10084                   1       No                 11   \n",
       "962         17588                   1      Yes                 11   \n",
       "914         25592                   1      Yes                 15   \n",
       "190          5678                   0       No                 14   \n",
       "237         21030                   1      Yes                 18   \n",
       "477          7999                   1       No                 11   \n",
       "1086        24450                   1      Yes                 13   \n",
       "\n",
       "      PerformanceRating  RelationshipSatisfaction  StockOptionLevel  \\\n",
       "98                    3                         3                 0   \n",
       "270                   3                         3                 0   \n",
       "1116                  4                         3                 1   \n",
       "561                   3                         1                 0   \n",
       "962                   3                         2                 1   \n",
       "914                   3                         4                 1   \n",
       "190                   3                         1                 1   \n",
       "237                   3                         4                 0   \n",
       "477                   3                         3                 1   \n",
       "1086                  3                         4                 0   \n",
       "\n",
       "      TotalWorkingYears  TrainingTimesLastYear  WorkLifeBalance  \\\n",
       "98                   38                      1                2   \n",
       "270                  37                      2                3   \n",
       "1116                 36                      3                3   \n",
       "561                  34                      3                4   \n",
       "962                  33                      2                3   \n",
       "914                  34                      3                3   \n",
       "190                  34                      5                3   \n",
       "237                  33                      2                4   \n",
       "477                  32                      2                3   \n",
       "1086                 32                      2                3   \n",
       "\n",
       "      YearsAtCompany  YearsInCurrentRole  YearsSinceLastPromotion  \\\n",
       "98                37                  10                        1   \n",
       "270               36                  10                        4   \n",
       "1116              36                   6                        2   \n",
       "561               34                   6                        1   \n",
       "962               33                   9                        0   \n",
       "914               33                   9                       15   \n",
       "190               33                  18                       11   \n",
       "237               33                   7                       15   \n",
       "477               32                   5                       10   \n",
       "1086              32                   6                       13   \n",
       "\n",
       "      YearsWithCurrManager  \n",
       "98                       8  \n",
       "270                     13  \n",
       "1116                    13  \n",
       "561                     16  \n",
       "962                     10  \n",
       "914                      0  \n",
       "190                      9  \n",
       "237                     12  \n",
       "477                      7  \n",
       "1086                     9  "
      ]
     },
     "execution_count": 75,
     "metadata": {},
     "output_type": "execute_result"
    }
   ],
   "source": [
    "# df.groupby(['YearsAtCompany']).sort_values([df],ascending = False)\n",
    "stayed.sort_values(['YearsAtCompany'],ascending = False).head(10)"
   ]
  },
  {
   "cell_type": "markdown",
   "metadata": {},
   "source": [
    "**Analysis:** These are employees are consider the mostly loyal because the stayed the most "
   ]
  },
  {
   "cell_type": "markdown",
   "metadata": {},
   "source": [
    "**General Info**"
   ]
  },
  {
   "cell_type": "markdown",
   "metadata": {},
   "source": [
    "Status of people that left  "
   ]
  },
  {
   "cell_type": "code",
   "execution_count": 126,
   "metadata": {},
   "outputs": [
    {
     "data": {
      "text/plain": [
       "Male      150\n",
       "Female     87\n",
       "Name: Gender, dtype: int64"
      ]
     },
     "execution_count": 126,
     "metadata": {},
     "output_type": "execute_result"
    }
   ],
   "source": [
    "additionalinfo_left['Gender'].value_counts()"
   ]
  },
  {
   "cell_type": "code",
   "execution_count": 137,
   "metadata": {},
   "outputs": [
    {
     "data": {
      "text/plain": [
       "18"
      ]
     },
     "execution_count": 137,
     "metadata": {},
     "output_type": "execute_result"
    }
   ],
   "source": [
    "additionalinfo_left['Age'].min()"
   ]
  },
  {
   "cell_type": "code",
   "execution_count": 13,
   "metadata": {},
   "outputs": [
    {
     "data": {
      "text/plain": [
       "58"
      ]
     },
     "execution_count": 13,
     "metadata": {},
     "output_type": "execute_result"
    }
   ],
   "source": [
    "additionalinfo_left['Age'].max()"
   ]
  },
  {
   "cell_type": "code",
   "execution_count": 138,
   "metadata": {},
   "outputs": [
    {
     "data": {
      "text/plain": [
       "Single      120\n",
       "Married      84\n",
       "Divorced     33\n",
       "Name: MaritalStatus, dtype: int64"
      ]
     },
     "execution_count": 138,
     "metadata": {},
     "output_type": "execute_result"
    }
   ],
   "source": [
    "additionalinfo_left['MaritalStatus'].value_counts()"
   ]
  },
  {
   "cell_type": "markdown",
   "metadata": {},
   "source": [
    "**Summary / Report**\n",
    "\n"
   ]
  },
  {
   "cell_type": "markdown",
   "metadata": {},
   "source": [
    "## Employee Attrition Prediction\n",
    "\n",
    "Now that we explored and understand the attributes of our employees, we will explore the reason why they leave the company. According to a few sources online the main reason why employees leave if for the following reason: \n",
    "\n",
    "1. Lack of engagement with company values and personal growth\n",
    "2. Unsatisfy with pay \n",
    "3. Conflict with Co-workers \n",
    "4. Work life balance \n",
    "\n",
    "For that reason we are going to explore (**RelationshipSatisfaction , JobInvolvement, JobSatisfaction, MonthlyIncome,WorkLifeBalance**) between the employees who left and the ones who stayed. We are first going to manually compare them to its benchmarks and after we are going to use classification models to determine the relationship between all the variables and the dependant variable and create a churn prediction. \n",
    "\n",
    "**Classification algorithms used:** \n",
    "\n",
    "1. Logistic Regression\n",
    "2. K-Nearest Neighbors\n",
    "3. Support Vector Machines\n",
    "4. Naive Bayes classifier\n",
    "5. Decision Tree\n",
    "6. Random Forrest\n"
   ]
  },
  {
   "cell_type": "markdown",
   "metadata": {},
   "source": [
    "**Self algorithm implimentation:**\n",
    "\n",
    "Fomular:\n",
    "Predicted Employee Attrition = Calculating the mean of (RelationshipSatisfaction , JobInvolvement, JobSatisfaction, MonthlyIncome, WorkLifeBalance) for people who left and selecting from people who stayed (same element selected) who have a score of below the mean."
   ]
  },
  {
   "cell_type": "code",
   "execution_count": 7,
   "metadata": {},
   "outputs": [
    {
     "name": "stdout",
     "output_type": "stream",
     "text": [
      "2.6582278481012658 2.518987341772152 2.4683544303797467 4787.0928270042195 2.5991561181434597\n"
     ]
    }
   ],
   "source": [
    "# Mean calculation\n",
    "wb0 = left['WorkLifeBalance'].mean()\n",
    "ji0 = left['JobInvolvement'].mean()\n",
    "js0 = left['JobSatisfaction'].mean()\n",
    "mi0 = left['MonthlyIncome'].mean()\n",
    "rs0 = left['RelationshipSatisfaction'].mean()\n",
    "print(wb0,ji0,js0,mi0,rs0)"
   ]
  },
  {
   "cell_type": "code",
   "execution_count": 8,
   "metadata": {},
   "outputs": [
    {
     "data": {
      "text/html": [
       "<div>\n",
       "<style scoped>\n",
       "    .dataframe tbody tr th:only-of-type {\n",
       "        vertical-align: middle;\n",
       "    }\n",
       "\n",
       "    .dataframe tbody tr th {\n",
       "        vertical-align: top;\n",
       "    }\n",
       "\n",
       "    .dataframe thead th {\n",
       "        text-align: right;\n",
       "    }\n",
       "</style>\n",
       "<table border=\"1\" class=\"dataframe\">\n",
       "  <thead>\n",
       "    <tr style=\"text-align: right;\">\n",
       "      <th></th>\n",
       "      <th>Age</th>\n",
       "      <th>Attrition</th>\n",
       "      <th>BusinessTravel</th>\n",
       "      <th>DailyRate</th>\n",
       "      <th>Department</th>\n",
       "      <th>DistanceFromHome</th>\n",
       "      <th>Education</th>\n",
       "      <th>EducationField</th>\n",
       "      <th>EmployeeNumber</th>\n",
       "      <th>EnvironmentSatisfaction</th>\n",
       "      <th>Gender</th>\n",
       "      <th>HourlyRate</th>\n",
       "      <th>JobInvolvement</th>\n",
       "      <th>JobLevel</th>\n",
       "      <th>JobRole</th>\n",
       "      <th>JobSatisfaction</th>\n",
       "      <th>MaritalStatus</th>\n",
       "      <th>MonthlyIncome</th>\n",
       "      <th>MonthlyRate</th>\n",
       "      <th>NumCompaniesWorked</th>\n",
       "      <th>OverTime</th>\n",
       "      <th>PercentSalaryHike</th>\n",
       "      <th>PerformanceRating</th>\n",
       "      <th>RelationshipSatisfaction</th>\n",
       "      <th>StockOptionLevel</th>\n",
       "      <th>TotalWorkingYears</th>\n",
       "      <th>TrainingTimesLastYear</th>\n",
       "      <th>WorkLifeBalance</th>\n",
       "      <th>YearsAtCompany</th>\n",
       "      <th>YearsInCurrentRole</th>\n",
       "      <th>YearsSinceLastPromotion</th>\n",
       "      <th>YearsWithCurrManager</th>\n",
       "    </tr>\n",
       "  </thead>\n",
       "  <tbody>\n",
       "    <tr>\n",
       "      <th>157</th>\n",
       "      <td>58</td>\n",
       "      <td>0</td>\n",
       "      <td>Travel_Rarely</td>\n",
       "      <td>1145</td>\n",
       "      <td>Research &amp; Development</td>\n",
       "      <td>9</td>\n",
       "      <td>3</td>\n",
       "      <td>Medical</td>\n",
       "      <td>214</td>\n",
       "      <td>2</td>\n",
       "      <td>Female</td>\n",
       "      <td>75</td>\n",
       "      <td>2</td>\n",
       "      <td>1</td>\n",
       "      <td>Research Scientist</td>\n",
       "      <td>2</td>\n",
       "      <td>Married</td>\n",
       "      <td>3346</td>\n",
       "      <td>11873</td>\n",
       "      <td>4</td>\n",
       "      <td>Yes</td>\n",
       "      <td>20</td>\n",
       "      <td>4</td>\n",
       "      <td>2</td>\n",
       "      <td>1</td>\n",
       "      <td>9</td>\n",
       "      <td>3</td>\n",
       "      <td>2</td>\n",
       "      <td>1</td>\n",
       "      <td>0</td>\n",
       "      <td>0</td>\n",
       "      <td>0</td>\n",
       "    </tr>\n",
       "    <tr>\n",
       "      <th>248</th>\n",
       "      <td>37</td>\n",
       "      <td>0</td>\n",
       "      <td>Travel_Rarely</td>\n",
       "      <td>1017</td>\n",
       "      <td>Research &amp; Development</td>\n",
       "      <td>1</td>\n",
       "      <td>2</td>\n",
       "      <td>Medical</td>\n",
       "      <td>340</td>\n",
       "      <td>3</td>\n",
       "      <td>Female</td>\n",
       "      <td>83</td>\n",
       "      <td>2</td>\n",
       "      <td>1</td>\n",
       "      <td>Research Scientist</td>\n",
       "      <td>1</td>\n",
       "      <td>Married</td>\n",
       "      <td>3920</td>\n",
       "      <td>18697</td>\n",
       "      <td>2</td>\n",
       "      <td>No</td>\n",
       "      <td>14</td>\n",
       "      <td>3</td>\n",
       "      <td>1</td>\n",
       "      <td>1</td>\n",
       "      <td>17</td>\n",
       "      <td>2</td>\n",
       "      <td>2</td>\n",
       "      <td>3</td>\n",
       "      <td>1</td>\n",
       "      <td>0</td>\n",
       "      <td>2</td>\n",
       "    </tr>\n",
       "    <tr>\n",
       "      <th>734</th>\n",
       "      <td>22</td>\n",
       "      <td>0</td>\n",
       "      <td>Travel_Rarely</td>\n",
       "      <td>217</td>\n",
       "      <td>Research &amp; Development</td>\n",
       "      <td>8</td>\n",
       "      <td>1</td>\n",
       "      <td>Life Sciences</td>\n",
       "      <td>1019</td>\n",
       "      <td>2</td>\n",
       "      <td>Male</td>\n",
       "      <td>94</td>\n",
       "      <td>1</td>\n",
       "      <td>1</td>\n",
       "      <td>Laboratory Technician</td>\n",
       "      <td>1</td>\n",
       "      <td>Married</td>\n",
       "      <td>2451</td>\n",
       "      <td>6881</td>\n",
       "      <td>1</td>\n",
       "      <td>No</td>\n",
       "      <td>15</td>\n",
       "      <td>3</td>\n",
       "      <td>1</td>\n",
       "      <td>1</td>\n",
       "      <td>4</td>\n",
       "      <td>3</td>\n",
       "      <td>2</td>\n",
       "      <td>4</td>\n",
       "      <td>3</td>\n",
       "      <td>1</td>\n",
       "      <td>1</td>\n",
       "    </tr>\n",
       "    <tr>\n",
       "      <th>819</th>\n",
       "      <td>28</td>\n",
       "      <td>0</td>\n",
       "      <td>Travel_Rarely</td>\n",
       "      <td>1451</td>\n",
       "      <td>Research &amp; Development</td>\n",
       "      <td>2</td>\n",
       "      <td>1</td>\n",
       "      <td>Life Sciences</td>\n",
       "      <td>1136</td>\n",
       "      <td>1</td>\n",
       "      <td>Male</td>\n",
       "      <td>67</td>\n",
       "      <td>2</td>\n",
       "      <td>1</td>\n",
       "      <td>Research Scientist</td>\n",
       "      <td>2</td>\n",
       "      <td>Married</td>\n",
       "      <td>3201</td>\n",
       "      <td>19911</td>\n",
       "      <td>0</td>\n",
       "      <td>No</td>\n",
       "      <td>17</td>\n",
       "      <td>3</td>\n",
       "      <td>1</td>\n",
       "      <td>0</td>\n",
       "      <td>6</td>\n",
       "      <td>2</td>\n",
       "      <td>1</td>\n",
       "      <td>5</td>\n",
       "      <td>3</td>\n",
       "      <td>0</td>\n",
       "      <td>4</td>\n",
       "    </tr>\n",
       "    <tr>\n",
       "      <th>1027</th>\n",
       "      <td>34</td>\n",
       "      <td>0</td>\n",
       "      <td>Travel_Rarely</td>\n",
       "      <td>401</td>\n",
       "      <td>Research &amp; Development</td>\n",
       "      <td>1</td>\n",
       "      <td>3</td>\n",
       "      <td>Life Sciences</td>\n",
       "      <td>1447</td>\n",
       "      <td>4</td>\n",
       "      <td>Female</td>\n",
       "      <td>86</td>\n",
       "      <td>2</td>\n",
       "      <td>1</td>\n",
       "      <td>Laboratory Technician</td>\n",
       "      <td>2</td>\n",
       "      <td>Married</td>\n",
       "      <td>3294</td>\n",
       "      <td>3708</td>\n",
       "      <td>5</td>\n",
       "      <td>No</td>\n",
       "      <td>17</td>\n",
       "      <td>3</td>\n",
       "      <td>1</td>\n",
       "      <td>1</td>\n",
       "      <td>7</td>\n",
       "      <td>2</td>\n",
       "      <td>2</td>\n",
       "      <td>5</td>\n",
       "      <td>4</td>\n",
       "      <td>0</td>\n",
       "      <td>2</td>\n",
       "    </tr>\n",
       "    <tr>\n",
       "      <th>1141</th>\n",
       "      <td>30</td>\n",
       "      <td>0</td>\n",
       "      <td>Travel_Rarely</td>\n",
       "      <td>241</td>\n",
       "      <td>Research &amp; Development</td>\n",
       "      <td>7</td>\n",
       "      <td>3</td>\n",
       "      <td>Medical</td>\n",
       "      <td>1609</td>\n",
       "      <td>2</td>\n",
       "      <td>Male</td>\n",
       "      <td>48</td>\n",
       "      <td>2</td>\n",
       "      <td>1</td>\n",
       "      <td>Research Scientist</td>\n",
       "      <td>2</td>\n",
       "      <td>Married</td>\n",
       "      <td>2141</td>\n",
       "      <td>5348</td>\n",
       "      <td>1</td>\n",
       "      <td>No</td>\n",
       "      <td>12</td>\n",
       "      <td>3</td>\n",
       "      <td>2</td>\n",
       "      <td>1</td>\n",
       "      <td>6</td>\n",
       "      <td>3</td>\n",
       "      <td>2</td>\n",
       "      <td>6</td>\n",
       "      <td>4</td>\n",
       "      <td>1</td>\n",
       "      <td>1</td>\n",
       "    </tr>\n",
       "    <tr>\n",
       "      <th>1188</th>\n",
       "      <td>29</td>\n",
       "      <td>0</td>\n",
       "      <td>Travel_Rarely</td>\n",
       "      <td>991</td>\n",
       "      <td>Sales</td>\n",
       "      <td>5</td>\n",
       "      <td>3</td>\n",
       "      <td>Medical</td>\n",
       "      <td>1669</td>\n",
       "      <td>1</td>\n",
       "      <td>Male</td>\n",
       "      <td>43</td>\n",
       "      <td>2</td>\n",
       "      <td>2</td>\n",
       "      <td>Sales Executive</td>\n",
       "      <td>2</td>\n",
       "      <td>Divorced</td>\n",
       "      <td>4187</td>\n",
       "      <td>3356</td>\n",
       "      <td>1</td>\n",
       "      <td>Yes</td>\n",
       "      <td>13</td>\n",
       "      <td>3</td>\n",
       "      <td>2</td>\n",
       "      <td>1</td>\n",
       "      <td>10</td>\n",
       "      <td>3</td>\n",
       "      <td>2</td>\n",
       "      <td>10</td>\n",
       "      <td>0</td>\n",
       "      <td>0</td>\n",
       "      <td>9</td>\n",
       "    </tr>\n",
       "    <tr>\n",
       "      <th>1256</th>\n",
       "      <td>38</td>\n",
       "      <td>0</td>\n",
       "      <td>Travel_Frequently</td>\n",
       "      <td>594</td>\n",
       "      <td>Research &amp; Development</td>\n",
       "      <td>2</td>\n",
       "      <td>2</td>\n",
       "      <td>Medical</td>\n",
       "      <td>1760</td>\n",
       "      <td>3</td>\n",
       "      <td>Female</td>\n",
       "      <td>75</td>\n",
       "      <td>2</td>\n",
       "      <td>1</td>\n",
       "      <td>Laboratory Technician</td>\n",
       "      <td>2</td>\n",
       "      <td>Married</td>\n",
       "      <td>2468</td>\n",
       "      <td>15963</td>\n",
       "      <td>4</td>\n",
       "      <td>No</td>\n",
       "      <td>14</td>\n",
       "      <td>3</td>\n",
       "      <td>2</td>\n",
       "      <td>1</td>\n",
       "      <td>9</td>\n",
       "      <td>4</td>\n",
       "      <td>2</td>\n",
       "      <td>6</td>\n",
       "      <td>1</td>\n",
       "      <td>0</td>\n",
       "      <td>5</td>\n",
       "    </tr>\n",
       "    <tr>\n",
       "      <th>1391</th>\n",
       "      <td>38</td>\n",
       "      <td>0</td>\n",
       "      <td>Travel_Rarely</td>\n",
       "      <td>1404</td>\n",
       "      <td>Sales</td>\n",
       "      <td>1</td>\n",
       "      <td>3</td>\n",
       "      <td>Life Sciences</td>\n",
       "      <td>1961</td>\n",
       "      <td>1</td>\n",
       "      <td>Male</td>\n",
       "      <td>59</td>\n",
       "      <td>2</td>\n",
       "      <td>1</td>\n",
       "      <td>Sales Representative</td>\n",
       "      <td>1</td>\n",
       "      <td>Single</td>\n",
       "      <td>2858</td>\n",
       "      <td>11473</td>\n",
       "      <td>4</td>\n",
       "      <td>No</td>\n",
       "      <td>14</td>\n",
       "      <td>3</td>\n",
       "      <td>1</td>\n",
       "      <td>0</td>\n",
       "      <td>20</td>\n",
       "      <td>3</td>\n",
       "      <td>2</td>\n",
       "      <td>1</td>\n",
       "      <td>0</td>\n",
       "      <td>0</td>\n",
       "      <td>0</td>\n",
       "    </tr>\n",
       "    <tr>\n",
       "      <th>1460</th>\n",
       "      <td>29</td>\n",
       "      <td>0</td>\n",
       "      <td>Travel_Rarely</td>\n",
       "      <td>468</td>\n",
       "      <td>Research &amp; Development</td>\n",
       "      <td>28</td>\n",
       "      <td>4</td>\n",
       "      <td>Medical</td>\n",
       "      <td>2054</td>\n",
       "      <td>4</td>\n",
       "      <td>Female</td>\n",
       "      <td>73</td>\n",
       "      <td>2</td>\n",
       "      <td>1</td>\n",
       "      <td>Research Scientist</td>\n",
       "      <td>1</td>\n",
       "      <td>Single</td>\n",
       "      <td>3785</td>\n",
       "      <td>8489</td>\n",
       "      <td>1</td>\n",
       "      <td>No</td>\n",
       "      <td>14</td>\n",
       "      <td>3</td>\n",
       "      <td>2</td>\n",
       "      <td>0</td>\n",
       "      <td>5</td>\n",
       "      <td>3</td>\n",
       "      <td>1</td>\n",
       "      <td>5</td>\n",
       "      <td>4</td>\n",
       "      <td>0</td>\n",
       "      <td>4</td>\n",
       "    </tr>\n",
       "  </tbody>\n",
       "</table>\n",
       "</div>"
      ],
      "text/plain": [
       "      Age  Attrition     BusinessTravel  DailyRate              Department  \\\n",
       "157    58          0      Travel_Rarely       1145  Research & Development   \n",
       "248    37          0      Travel_Rarely       1017  Research & Development   \n",
       "734    22          0      Travel_Rarely        217  Research & Development   \n",
       "819    28          0      Travel_Rarely       1451  Research & Development   \n",
       "1027   34          0      Travel_Rarely        401  Research & Development   \n",
       "1141   30          0      Travel_Rarely        241  Research & Development   \n",
       "1188   29          0      Travel_Rarely        991                   Sales   \n",
       "1256   38          0  Travel_Frequently        594  Research & Development   \n",
       "1391   38          0      Travel_Rarely       1404                   Sales   \n",
       "1460   29          0      Travel_Rarely        468  Research & Development   \n",
       "\n",
       "      DistanceFromHome  Education EducationField  EmployeeNumber  \\\n",
       "157                  9          3        Medical             214   \n",
       "248                  1          2        Medical             340   \n",
       "734                  8          1  Life Sciences            1019   \n",
       "819                  2          1  Life Sciences            1136   \n",
       "1027                 1          3  Life Sciences            1447   \n",
       "1141                 7          3        Medical            1609   \n",
       "1188                 5          3        Medical            1669   \n",
       "1256                 2          2        Medical            1760   \n",
       "1391                 1          3  Life Sciences            1961   \n",
       "1460                28          4        Medical            2054   \n",
       "\n",
       "      EnvironmentSatisfaction  Gender  HourlyRate  JobInvolvement  JobLevel  \\\n",
       "157                         2  Female          75               2         1   \n",
       "248                         3  Female          83               2         1   \n",
       "734                         2    Male          94               1         1   \n",
       "819                         1    Male          67               2         1   \n",
       "1027                        4  Female          86               2         1   \n",
       "1141                        2    Male          48               2         1   \n",
       "1188                        1    Male          43               2         2   \n",
       "1256                        3  Female          75               2         1   \n",
       "1391                        1    Male          59               2         1   \n",
       "1460                        4  Female          73               2         1   \n",
       "\n",
       "                    JobRole  JobSatisfaction MaritalStatus  MonthlyIncome  \\\n",
       "157      Research Scientist                2       Married           3346   \n",
       "248      Research Scientist                1       Married           3920   \n",
       "734   Laboratory Technician                1       Married           2451   \n",
       "819      Research Scientist                2       Married           3201   \n",
       "1027  Laboratory Technician                2       Married           3294   \n",
       "1141     Research Scientist                2       Married           2141   \n",
       "1188        Sales Executive                2      Divorced           4187   \n",
       "1256  Laboratory Technician                2       Married           2468   \n",
       "1391   Sales Representative                1        Single           2858   \n",
       "1460     Research Scientist                1        Single           3785   \n",
       "\n",
       "      MonthlyRate  NumCompaniesWorked OverTime  PercentSalaryHike  \\\n",
       "157         11873                   4      Yes                 20   \n",
       "248         18697                   2       No                 14   \n",
       "734          6881                   1       No                 15   \n",
       "819         19911                   0       No                 17   \n",
       "1027         3708                   5       No                 17   \n",
       "1141         5348                   1       No                 12   \n",
       "1188         3356                   1      Yes                 13   \n",
       "1256        15963                   4       No                 14   \n",
       "1391        11473                   4       No                 14   \n",
       "1460         8489                   1       No                 14   \n",
       "\n",
       "      PerformanceRating  RelationshipSatisfaction  StockOptionLevel  \\\n",
       "157                   4                         2                 1   \n",
       "248                   3                         1                 1   \n",
       "734                   3                         1                 1   \n",
       "819                   3                         1                 0   \n",
       "1027                  3                         1                 1   \n",
       "1141                  3                         2                 1   \n",
       "1188                  3                         2                 1   \n",
       "1256                  3                         2                 1   \n",
       "1391                  3                         1                 0   \n",
       "1460                  3                         2                 0   \n",
       "\n",
       "      TotalWorkingYears  TrainingTimesLastYear  WorkLifeBalance  \\\n",
       "157                   9                      3                2   \n",
       "248                  17                      2                2   \n",
       "734                   4                      3                2   \n",
       "819                   6                      2                1   \n",
       "1027                  7                      2                2   \n",
       "1141                  6                      3                2   \n",
       "1188                 10                      3                2   \n",
       "1256                  9                      4                2   \n",
       "1391                 20                      3                2   \n",
       "1460                  5                      3                1   \n",
       "\n",
       "      YearsAtCompany  YearsInCurrentRole  YearsSinceLastPromotion  \\\n",
       "157                1                   0                        0   \n",
       "248                3                   1                        0   \n",
       "734                4                   3                        1   \n",
       "819                5                   3                        0   \n",
       "1027               5                   4                        0   \n",
       "1141               6                   4                        1   \n",
       "1188              10                   0                        0   \n",
       "1256               6                   1                        0   \n",
       "1391               1                   0                        0   \n",
       "1460               5                   4                        0   \n",
       "\n",
       "      YearsWithCurrManager  \n",
       "157                      0  \n",
       "248                      2  \n",
       "734                      1  \n",
       "819                      4  \n",
       "1027                     2  \n",
       "1141                     1  \n",
       "1188                     9  \n",
       "1256                     5  \n",
       "1391                     0  \n",
       "1460                     4  "
      ]
     },
     "execution_count": 8,
     "metadata": {},
     "output_type": "execute_result"
    }
   ],
   "source": [
    "# Predicted employee attrition  \n",
    "stayed.loc[(df['WorkLifeBalance'] <= 2.66) & (df['JobInvolvement'] <= 2.52)& (df['JobSatisfaction'] <= 2.4) & (df['MonthlyIncome'] <= 4787) & (df['RelationshipSatisfaction'] <= 2.6)] "
   ]
  },
  {
   "cell_type": "markdown",
   "metadata": {},
   "source": [
    "\n",
    "Each of these 10 employees's 5 selected elements have a score below the mean. Analyzing the data, these employees have similar behaviour and worst if not equal, thus they have a higer chance of leaving the company in the near future.\n"
   ]
  },
  {
   "cell_type": "markdown",
   "metadata": {},
   "source": [
    "**Model preparation**\n",
    "\n",
    "Metrics selected will be the same (RelationshipSatisfaction , JobInvolvement, JobSatisfaction, MonthlyIncome, WorkLifeBalance)"
   ]
  },
  {
   "cell_type": "code",
   "execution_count": 60,
   "metadata": {},
   "outputs": [],
   "source": [
    "X = df[['WorkLifeBalance','JobInvolvement','JobSatisfaction','MonthlyIncome','RelationshipSatisfaction']] \n",
    "y = df['Attrition']"
   ]
  },
  {
   "cell_type": "markdown",
   "metadata": {},
   "source": [
    "**Splitting dataset to trainig and test**"
   ]
  },
  {
   "cell_type": "code",
   "execution_count": 61,
   "metadata": {},
   "outputs": [],
   "source": [
    "from sklearn.model_selection import train_test_split\n",
    "X_train, X_test, y_train, y_test = train_test_split(X, y, test_size = 1/3, random_state = 0)"
   ]
  },
  {
   "cell_type": "markdown",
   "metadata": {},
   "source": [
    "**Feature scaling**"
   ]
  },
  {
   "cell_type": "code",
   "execution_count": 62,
   "metadata": {},
   "outputs": [],
   "source": [
    "from sklearn.preprocessing import StandardScaler\n",
    "sc_X = StandardScaler()\n",
    "X_train = sc_X.fit_transform(X_train)\n",
    "X_test = sc_X.transform(X_test)\n",
    "# sc_y = StandardScaler()\n",
    "# y_train = sc_y.fit_transform(y_train.values.reshape(-1,1))"
   ]
  },
  {
   "cell_type": "markdown",
   "metadata": {},
   "source": [
    "**Logistic Regression** "
   ]
  },
  {
   "cell_type": "code",
   "execution_count": 91,
   "metadata": {},
   "outputs": [
    {
     "data": {
      "text/plain": [
       "84.08"
      ]
     },
     "execution_count": 91,
     "metadata": {},
     "output_type": "execute_result"
    }
   ],
   "source": [
    "from sklearn.linear_model import LogisticRegression\n",
    "classifierlr = LogisticRegression(random_state = 0)\n",
    "classifierlr.fit(X_train, y_train)\n",
    "\n",
    "# Predicting the Test set results\n",
    "y_pred = classifierlr.predict(X_test)\n",
    "\n",
    "#Accuracy \n",
    "lr_accuracy = round(classifierlr.score(X_train, y_train) * 100, 2)\n",
    "lr_accuracy"
   ]
  },
  {
   "cell_type": "code",
   "execution_count": 117,
   "metadata": {},
   "outputs": [
    {
     "data": {
      "text/plain": [
       "83.88"
      ]
     },
     "execution_count": 117,
     "metadata": {},
     "output_type": "execute_result"
    }
   ],
   "source": [
    "# Applying k-Fold Cross Validation\n",
    "from sklearn.model_selection import cross_val_score\n",
    "accuracies = cross_val_score(estimator = classifierlr, X = X_train, y = y_train, cv = 10)\n",
    "lrk = round(accuracies.mean() *100,ndigits=2)\n",
    "lrk"
   ]
  },
  {
   "cell_type": "markdown",
   "metadata": {},
   "source": [
    "**K-Nearest Neighbour**"
   ]
  },
  {
   "cell_type": "code",
   "execution_count": 97,
   "metadata": {},
   "outputs": [
    {
     "data": {
      "text/plain": [
       "85.71"
      ]
     },
     "execution_count": 97,
     "metadata": {},
     "output_type": "execute_result"
    }
   ],
   "source": [
    "from sklearn.neighbors import KNeighborsClassifier\n",
    "classifierknn = KNeighborsClassifier(n_neighbors = 5, metric = 'minkowski', p = 2) #choosing the metric to select the distance. P = 2 means the distance selected is the euclidean distance\n",
    "classifierknn.fit(X_train, y_train)\n",
    "\n",
    "# Predicting the Test set results\n",
    "y_pred = classifierknn.predict(X_test)\n",
    "\n",
    "#Accuracy \n",
    "knn_accuracy = round(classifierknn.score(X_train, y_train) * 100, 2)\n",
    "knn_accuracy"
   ]
  },
  {
   "cell_type": "code",
   "execution_count": 116,
   "metadata": {},
   "outputs": [
    {
     "data": {
      "text/plain": [
       "81.94"
      ]
     },
     "execution_count": 116,
     "metadata": {},
     "output_type": "execute_result"
    }
   ],
   "source": [
    "# Applying k-Fold Cross Validation\n",
    "from sklearn.model_selection import cross_val_score\n",
    "accuracies = cross_val_score(estimator = classifierknn, X = X_train, y = y_train, cv = 10)\n",
    "knnk = round(accuracies.mean() *100,ndigits=2)\n",
    "knnk"
   ]
  },
  {
   "cell_type": "markdown",
   "metadata": {},
   "source": [
    "**Support Vector Machine**"
   ]
  },
  {
   "cell_type": "code",
   "execution_count": 102,
   "metadata": {},
   "outputs": [
    {
     "data": {
      "text/plain": [
       "83.88"
      ]
     },
     "execution_count": 102,
     "metadata": {},
     "output_type": "execute_result"
    }
   ],
   "source": [
    "# Fitting SVM to the Training set\n",
    "from sklearn.svm import SVC\n",
    "classifiersvc = SVC(kernel = 'linear', random_state = 0) #choose the kernel\n",
    "classifiersvc.fit(X_train, y_train)\n",
    "\n",
    "# Predicting the Test set results\n",
    "y_pred = classifiersvc.predict(X_test)\n",
    "\n",
    "#Accuracy \n",
    "svm_accuracy = round(classifiersvc.score(X_train, y_train) * 100, 2)\n",
    "svm_accuracy"
   ]
  },
  {
   "cell_type": "code",
   "execution_count": 115,
   "metadata": {},
   "outputs": [
    {
     "data": {
      "text/plain": [
       "83.88"
      ]
     },
     "execution_count": 115,
     "metadata": {},
     "output_type": "execute_result"
    }
   ],
   "source": [
    "# Applying k-Fold Cross Validation\n",
    "from sklearn.model_selection import cross_val_score\n",
    "accuracies = cross_val_score(estimator = classifiersvc, X = X_train, y = y_train, cv = 10)\n",
    "svmk = round(accuracies.mean() *100,ndigits=2)\n",
    "svmk"
   ]
  },
  {
   "cell_type": "markdown",
   "metadata": {},
   "source": [
    "**Naive Bayes**"
   ]
  },
  {
   "cell_type": "code",
   "execution_count": 105,
   "metadata": {},
   "outputs": [
    {
     "data": {
      "text/plain": [
       "83.98"
      ]
     },
     "execution_count": 105,
     "metadata": {},
     "output_type": "execute_result"
    }
   ],
   "source": [
    "# Fitting Naive Bayes to the Training set\n",
    "from sklearn.naive_bayes import GaussianNB\n",
    "classifiernb = GaussianNB()\n",
    "classifiernb.fit(X_train, y_train)\n",
    "\n",
    "# Predicting the Test set results\n",
    "y_pred = classifiernb.predict(X_test)\n",
    "\n",
    "#Accuracy \n",
    "nb_accuracy = round(classifiernb.score(X_train, y_train) * 100, 2)\n",
    "nb_accuracy"
   ]
  },
  {
   "cell_type": "code",
   "execution_count": 114,
   "metadata": {},
   "outputs": [
    {
     "data": {
      "text/plain": [
       "83.47"
      ]
     },
     "execution_count": 114,
     "metadata": {},
     "output_type": "execute_result"
    }
   ],
   "source": [
    "# Applying k-Fold Cross Validation\n",
    "from sklearn.model_selection import cross_val_score\n",
    "accuracies = cross_val_score(estimator = classifiernb, X = X_train, y = y_train, cv = 10)\n",
    "nbk = round(accuracies.mean() *100,ndigits=2)\n",
    "nbk"
   ]
  },
  {
   "cell_type": "markdown",
   "metadata": {},
   "source": [
    "**Decision Tree**"
   ]
  },
  {
   "cell_type": "code",
   "execution_count": 107,
   "metadata": {},
   "outputs": [
    {
     "data": {
      "text/plain": [
       "100.0"
      ]
     },
     "execution_count": 107,
     "metadata": {},
     "output_type": "execute_result"
    }
   ],
   "source": [
    "# Fitting Decision Tree Classification to the Training set\n",
    "from sklearn.tree import DecisionTreeClassifier\n",
    "classifierdt = DecisionTreeClassifier(criterion = 'entropy', random_state = 0)\n",
    "classifierdt.fit(X_train, y_train)\n",
    "\n",
    "# Predicting the Test set results\n",
    "y_pred = classifierdt.predict(X_test)\n",
    "\n",
    "\n",
    "#Accuracy \n",
    "dt_accuracy = round(classifierdt.score(X_train, y_train) * 100, 2)\n",
    "dt_accuracy"
   ]
  },
  {
   "cell_type": "code",
   "execution_count": 113,
   "metadata": {},
   "outputs": [
    {
     "data": {
      "text/plain": [
       "73.05"
      ]
     },
     "execution_count": 113,
     "metadata": {},
     "output_type": "execute_result"
    }
   ],
   "source": [
    "# Applying k-Fold Cross Validation\n",
    "from sklearn.model_selection import cross_val_score\n",
    "accuracies = cross_val_score(estimator = classifierdt, X = X_train, y = y_train, cv = 10)\n",
    "dtk = round(accuracies.mean() *100,ndigits=2)\n",
    "dtk"
   ]
  },
  {
   "cell_type": "markdown",
   "metadata": {},
   "source": [
    "**Random Forest**"
   ]
  },
  {
   "cell_type": "code",
   "execution_count": 109,
   "metadata": {},
   "outputs": [
    {
     "data": {
      "text/plain": [
       "97.86"
      ]
     },
     "execution_count": 109,
     "metadata": {},
     "output_type": "execute_result"
    }
   ],
   "source": [
    "# Fitting Random Forest Classification to the Training set\n",
    "from sklearn.ensemble import RandomForestClassifier\n",
    "classifierrf = RandomForestClassifier(n_estimators = 10, criterion = 'entropy', random_state = 0)\n",
    "classifierrf.fit(X_train, y_train)\n",
    "\n",
    "# Predicting the Test set results\n",
    "y_pred = classifierrf.predict(X_test)\n",
    "\n",
    "#Accuracy \n",
    "rf_accuracy = round(classifierrf.score(X_train, y_train) * 100, 2)\n",
    "rf_accuracy"
   ]
  },
  {
   "cell_type": "code",
   "execution_count": 112,
   "metadata": {},
   "outputs": [
    {
     "data": {
      "text/plain": [
       "80.71"
      ]
     },
     "execution_count": 112,
     "metadata": {},
     "output_type": "execute_result"
    }
   ],
   "source": [
    "# Applying k-Fold Cross Validation\n",
    "from sklearn.model_selection import cross_val_score\n",
    "accuracies = cross_val_score(estimator = classifierrf, X = X_train, y = y_train, cv = 10)\n",
    "rfk = round(accuracies.mean() *100,ndigits=2)\n",
    "rfk"
   ]
  },
  {
   "cell_type": "markdown",
   "metadata": {},
   "source": [
    "**Model Evaluation**"
   ]
  },
  {
   "cell_type": "code",
   "execution_count": 121,
   "metadata": {},
   "outputs": [
    {
     "data": {
      "text/html": [
       "<div>\n",
       "<style scoped>\n",
       "    .dataframe tbody tr th:only-of-type {\n",
       "        vertical-align: middle;\n",
       "    }\n",
       "\n",
       "    .dataframe tbody tr th {\n",
       "        vertical-align: top;\n",
       "    }\n",
       "\n",
       "    .dataframe thead th {\n",
       "        text-align: right;\n",
       "    }\n",
       "</style>\n",
       "<table border=\"1\" class=\"dataframe\">\n",
       "  <thead>\n",
       "    <tr style=\"text-align: right;\">\n",
       "      <th></th>\n",
       "      <th>Model</th>\n",
       "      <th>Score</th>\n",
       "      <th>K-Fold</th>\n",
       "    </tr>\n",
       "  </thead>\n",
       "  <tbody>\n",
       "    <tr>\n",
       "      <th>5</th>\n",
       "      <td>Decision Tree</td>\n",
       "      <td>100.00</td>\n",
       "      <td>80.71</td>\n",
       "    </tr>\n",
       "    <tr>\n",
       "      <th>3</th>\n",
       "      <td>Random Forest</td>\n",
       "      <td>97.86</td>\n",
       "      <td>83.47</td>\n",
       "    </tr>\n",
       "    <tr>\n",
       "      <th>1</th>\n",
       "      <td>K-Nearest Neighbour</td>\n",
       "      <td>85.71</td>\n",
       "      <td>81.94</td>\n",
       "    </tr>\n",
       "    <tr>\n",
       "      <th>2</th>\n",
       "      <td>Logistic Regression</td>\n",
       "      <td>84.08</td>\n",
       "      <td>83.88</td>\n",
       "    </tr>\n",
       "    <tr>\n",
       "      <th>4</th>\n",
       "      <td>Naive Bayes</td>\n",
       "      <td>83.98</td>\n",
       "      <td>73.05</td>\n",
       "    </tr>\n",
       "    <tr>\n",
       "      <th>0</th>\n",
       "      <td>Support Vector Machines</td>\n",
       "      <td>83.88</td>\n",
       "      <td>83.88</td>\n",
       "    </tr>\n",
       "  </tbody>\n",
       "</table>\n",
       "</div>"
      ],
      "text/plain": [
       "                     Model   Score  K-Fold\n",
       "5            Decision Tree  100.00   80.71\n",
       "3            Random Forest   97.86   83.47\n",
       "1      K-Nearest Neighbour   85.71   81.94\n",
       "2      Logistic Regression   84.08   83.88\n",
       "4              Naive Bayes   83.98   73.05\n",
       "0  Support Vector Machines   83.88   83.88"
      ]
     },
     "execution_count": 121,
     "metadata": {},
     "output_type": "execute_result"
    }
   ],
   "source": [
    "bmodels = pd.DataFrame({\n",
    "    'Model': ['Support Vector Machines', 'K-Nearest Neighbour', 'Logistic Regression', \n",
    "              'Random Forest', 'Naive Bayes', 'Decision Tree'],\n",
    "    'Score': [svm_accuracy, knn_accuracy, lr_accuracy, \n",
    "              rf_accuracy, nb_accuracy, dt_accuracy],\n",
    "    'K-Fold' :[lrk, knnk, svmk, nbk, dtk, rfk]})\n",
    "models.sort_values(by='Score', ascending=False)"
   ]
  },
  {
   "cell_type": "markdown",
   "metadata": {},
   "source": [
    "**Analysis:** The best model prediction is decision tree with a score of 100% while after k-folding, the prediction with the best accuracy is the support vector machine "
   ]
  },
  {
   "cell_type": "markdown",
   "metadata": {},
   "source": [
   
   ]
  }
 ],
 "metadata": {
  "kernelspec": {
   "display_name": "Python 3",
   "language": "python",
   "name": "python3"
  },
  "language_info": {
   "codemirror_mode": {
    "name": "ipython",
    "version": 3
   },
   "file_extension": ".py",
   "mimetype": "text/x-python",
   "name": "python",
   "nbconvert_exporter": "python",
   "pygments_lexer": "ipython3",
   "version": "3.7.3"
  }
 },
 "nbformat": 4,
 "nbformat_minor": 2
}
